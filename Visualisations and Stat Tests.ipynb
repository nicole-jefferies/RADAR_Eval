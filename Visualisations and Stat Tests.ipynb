{
 "cells": [
  {
   "cell_type": "code",
   "execution_count": 1,
   "metadata": {},
   "outputs": [],
   "source": [
    "# for data wrangling\n",
    "import pandas as pd\n",
    "from pandas import json_normalize\n",
    "\n",
    "# for stats\n",
    "import numpy as np\n",
    "import statistics\n",
    "import math\n",
    "from scipy.stats import pearsonr\n",
    "\n",
    "# for visualisations\n",
    "import matplotlib.pyplot as plt\n",
    "import seaborn as sns\n",
    "\n",
    "# for regex\n",
    "import re"
   ]
  },
  {
   "cell_type": "code",
   "execution_count": 2,
   "metadata": {},
   "outputs": [],
   "source": [
    "data = pd.read_csv('topics-post-RADAR-data.csv')"
   ]
  },
  {
   "cell_type": "code",
   "execution_count": 3,
   "metadata": {},
   "outputs": [
    {
     "data": {
      "text/plain": [
       "Index(['id', 'File', 'Topic', 'Student', 'Student_Reformatted',\n",
       "       'Grammarly_Score', 'STUD_Grammarly_Red', 'STUD_Grammarly_All',\n",
       "       'ChatGPT-3', 'ChatGPT-4', 'GPT-4_Paraphrasing.io',\n",
       "       'GPT-4_Paraphrasing.io_MANUALLYCORRECTED', 'GPT-4_Quillbot',\n",
       "       'GPT-4_Grammarly', 'GPT-4_WordAi', 'STUD_sent_count', 'GPT3_sent_count',\n",
       "       'GPT4_sent_count', 'STUD_word_count', 'GPT3_word_count',\n",
       "       'GPT4_word_count', 'STUD_RADAR', 'STUD_REFORMATTED', 'STUD_RED_RADAR',\n",
       "       'STUD_ALL_RADAR', 'GPT3_RADAR', 'GPT4_RADAR', 'GPT4_Quillbot_RADAR',\n",
       "       'GPT4_Grammarly_RADAR', 'GPT4_WordAI_RADAR',\n",
       "       'GPT4_Paraphrasing_IO_RAW_RADAR', 'GPT4_Paraphrasing_IO_EDITED_RADAR'],\n",
       "      dtype='object')"
      ]
     },
     "execution_count": 3,
     "metadata": {},
     "output_type": "execute_result"
    }
   ],
   "source": [
    "data.columns"
   ]
  },
  {
   "cell_type": "code",
   "execution_count": 4,
   "metadata": {},
   "outputs": [],
   "source": [
    "melted_data = pd.melt(data, id_vars=[\n",
    "    'id', 'File', 'Topic', 'Student', 'ChatGPT-3', 'ChatGPT-4', 'Student_Reformatted',\n",
    "       'Grammarly_Score', 'STUD_Grammarly_Red', 'STUD_Grammarly_All',\n",
    "       'GPT-4_Paraphrasing.io', 'GPT-4_Paraphrasing.io_MANUALLYCORRECTED',\n",
    "       'GPT-4_Quillbot', 'GPT-4_Grammarly', 'GPT-4_WordAi', \n",
    "       'STUD_sent_count', 'GPT3_sent_count', 'GPT4_sent_count',\n",
    "       'STUD_word_count', 'GPT3_word_count', 'GPT4_word_count'], \n",
    "       var_name='Category', value_name='RADAR_output')"
   ]
  },
  {
   "cell_type": "code",
   "execution_count": 5,
   "metadata": {},
   "outputs": [
    {
     "data": {
      "text/html": [
       "<div>\n",
       "<style scoped>\n",
       "    .dataframe tbody tr th:only-of-type {\n",
       "        vertical-align: middle;\n",
       "    }\n",
       "\n",
       "    .dataframe tbody tr th {\n",
       "        vertical-align: top;\n",
       "    }\n",
       "\n",
       "    .dataframe thead th {\n",
       "        text-align: right;\n",
       "    }\n",
       "</style>\n",
       "<table border=\"1\" class=\"dataframe\">\n",
       "  <thead>\n",
       "    <tr style=\"text-align: right;\">\n",
       "      <th></th>\n",
       "      <th>id</th>\n",
       "      <th>File</th>\n",
       "      <th>Topic</th>\n",
       "      <th>Student</th>\n",
       "      <th>ChatGPT-3</th>\n",
       "      <th>ChatGPT-4</th>\n",
       "      <th>Student_Reformatted</th>\n",
       "      <th>Grammarly_Score</th>\n",
       "      <th>STUD_Grammarly_Red</th>\n",
       "      <th>STUD_Grammarly_All</th>\n",
       "      <th>...</th>\n",
       "      <th>GPT-4_Grammarly</th>\n",
       "      <th>GPT-4_WordAi</th>\n",
       "      <th>STUD_sent_count</th>\n",
       "      <th>GPT3_sent_count</th>\n",
       "      <th>GPT4_sent_count</th>\n",
       "      <th>STUD_word_count</th>\n",
       "      <th>GPT3_word_count</th>\n",
       "      <th>GPT4_word_count</th>\n",
       "      <th>Category</th>\n",
       "      <th>RADAR_output</th>\n",
       "    </tr>\n",
       "  </thead>\n",
       "  <tbody>\n",
       "    <tr>\n",
       "      <th>0</th>\n",
       "      <td>0</td>\n",
       "      <td>essay01.txt</td>\n",
       "      <td>Should students be taught to compete or to coo...</td>\n",
       "      <td>It is always said that competition can effecti...</td>\n",
       "      <td>Education is not only about acquiring knowledg...</td>\n",
       "      <td>Title: Fostering Cooperation and Competition i...</td>\n",
       "      <td>It is always said that competition can effecti...</td>\n",
       "      <td>75</td>\n",
       "      <td>It is always said that competition can effecti...</td>\n",
       "      <td>It is always said that competition can effecti...</td>\n",
       "      <td>...</td>\n",
       "      <td>Title: Fostering Cooperation and Competition i...</td>\n",
       "      <td>Title of Article: Promoting Cooperation and Co...</td>\n",
       "      <td>16</td>\n",
       "      <td>12</td>\n",
       "      <td>12</td>\n",
       "      <td>367</td>\n",
       "      <td>258</td>\n",
       "      <td>215</td>\n",
       "      <td>STUD_RADAR</td>\n",
       "      <td>0.57065</td>\n",
       "    </tr>\n",
       "  </tbody>\n",
       "</table>\n",
       "<p>1 rows × 23 columns</p>\n",
       "</div>"
      ],
      "text/plain": [
       "   id         File                                              Topic  \\\n",
       "0   0  essay01.txt  Should students be taught to compete or to coo...   \n",
       "\n",
       "                                             Student  \\\n",
       "0  It is always said that competition can effecti...   \n",
       "\n",
       "                                           ChatGPT-3  \\\n",
       "0  Education is not only about acquiring knowledg...   \n",
       "\n",
       "                                           ChatGPT-4  \\\n",
       "0  Title: Fostering Cooperation and Competition i...   \n",
       "\n",
       "                                 Student_Reformatted  Grammarly_Score  \\\n",
       "0  It is always said that competition can effecti...               75   \n",
       "\n",
       "                                  STUD_Grammarly_Red  \\\n",
       "0  It is always said that competition can effecti...   \n",
       "\n",
       "                                  STUD_Grammarly_All  ...  \\\n",
       "0  It is always said that competition can effecti...  ...   \n",
       "\n",
       "                                     GPT-4_Grammarly  \\\n",
       "0  Title: Fostering Cooperation and Competition i...   \n",
       "\n",
       "                                        GPT-4_WordAi STUD_sent_count  \\\n",
       "0  Title of Article: Promoting Cooperation and Co...              16   \n",
       "\n",
       "  GPT3_sent_count GPT4_sent_count  STUD_word_count  GPT3_word_count  \\\n",
       "0              12              12              367              258   \n",
       "\n",
       "   GPT4_word_count    Category  RADAR_output  \n",
       "0              215  STUD_RADAR       0.57065  \n",
       "\n",
       "[1 rows x 23 columns]"
      ]
     },
     "execution_count": 5,
     "metadata": {},
     "output_type": "execute_result"
    }
   ],
   "source": [
    "melted_data.head(1)"
   ]
  },
  {
   "cell_type": "code",
   "execution_count": 6,
   "metadata": {},
   "outputs": [
    {
     "data": {
      "text/plain": [
       "(array([ 0,  1,  2,  3,  4,  5,  6,  7,  8,  9, 10]),\n",
       " [Text(0, 0, 'STUD_RADAR'),\n",
       "  Text(1, 0, 'STUD_REFORMATTED'),\n",
       "  Text(2, 0, 'STUD_RED_RADAR'),\n",
       "  Text(3, 0, 'STUD_ALL_RADAR'),\n",
       "  Text(4, 0, 'GPT3_RADAR'),\n",
       "  Text(5, 0, 'GPT4_RADAR'),\n",
       "  Text(6, 0, 'GPT4_Quillbot_RADAR'),\n",
       "  Text(7, 0, 'GPT4_Grammarly_RADAR'),\n",
       "  Text(8, 0, 'GPT4_WordAI_RADAR'),\n",
       "  Text(9, 0, 'GPT4_Paraphrasing_IO_RAW_RADAR'),\n",
       "  Text(10, 0, 'GPT4_Paraphrasing_IO_EDITED_RADAR')])"
      ]
     },
     "execution_count": 6,
     "metadata": {},
     "output_type": "execute_result"
    },
    {
     "data": {
      "image/png": "[encoded data removed]",
      "text/plain": [
       "<Figure size 1080x504 with 1 Axes>"
      ]
     },
     "metadata": {
      "needs_background": "light"
     },
     "output_type": "display_data"
    }
   ],
   "source": [
    "plt.figure(figsize=(15, 7)) \n",
    "g = sns.boxplot(data=melted_data, y='RADAR_output', x='Category')\n",
    "plt.xticks(rotation=90)\n",
    "# g.set(xticklabels=['Human', 'GPT3', 'GPT4', 'Quillbot', 'Grammarly', 'WordAI', 'Para Raw', 'Para Edited']) \n"
   ]
  }
 ],
 "metadata": {
  "kernelspec": {
   "display_name": "radar_env",
   "language": "python",
   "name": "python3"
  },
  "language_info": {
   "codemirror_mode": {
    "name": "ipython",
    "version": 3
   },
   "file_extension": ".py",
   "mimetype": "text/x-python",
   "name": "python",
   "nbconvert_exporter": "python",
   "pygments_lexer": "ipython3",
   "version": "3.7.12"
  }
 },
 "nbformat": 4,
 "nbformat_minor": 2
}
