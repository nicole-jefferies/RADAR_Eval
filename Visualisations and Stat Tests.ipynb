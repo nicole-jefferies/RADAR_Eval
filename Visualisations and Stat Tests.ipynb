{
 "cells": [
  {
   "cell_type": "code",
   "execution_count": 1,
   "metadata": {},
   "outputs": [],
   "source": [
    "# for data wrangling\n",
    "import pandas as pd\n",
    "from pandas import json_normalize\n",
    "\n",
    "# for stats\n",
    "import numpy as np\n",
    "import statistics\n",
    "import math\n",
    "from scipy.stats import pearsonr\n",
    "\n",
    "# for visualisations\n",
    "import matplotlib.pyplot as plt\n",
    "import seaborn as sns\n",
    "\n",
    "# for regex\n",
    "import re"
   ]
  },
  {
   "cell_type": "code",
   "execution_count": 2,
   "metadata": {},
   "outputs": [],
   "source": [
    "data = pd.read_csv('topics-post-RADAR-data.csv')"
   ]
  },
  {
   "cell_type": "code",
   "execution_count": 3,
   "metadata": {},
   "outputs": [
    {
     "data": {
      "text/plain": [
       "Index(['id', 'File', 'Topic', 'Student', 'ChatGPT-3', 'ChatGPT-4',\n",
       "       'GPT-4_Paraphrasing.io', 'GPT-4_Paraphrasing.io_MANUALLYCORRECTED',\n",
       "       'GPT-4_Quillbot', 'GPT-4_Grammarly', 'GPT-4_WordAi', 'STUD_spacy',\n",
       "       'STUD_lemma', 'GPT3_spacy', 'GPT3_lemma', 'GPT4_spacy', 'GPT4_lemma',\n",
       "       'STUD_sent_count', 'GPT3_sent_count', 'GPT4_sent_count',\n",
       "       'STUD_word_count', 'GPT3_word_count', 'GPT4_word_count', 'STUD_RADAR',\n",
       "       'GPT3_RADAR', 'GPT4_RADAR', 'GPT4_Quillbot_RADAR',\n",
       "       'GPT4_Grammarly_RADAR', 'GPT4_WordAI_RADAR',\n",
       "       'GPT4_Paraphrasing_IO_RAW_RADAR', 'GPT4_Paraphrasing_IO_EDITED_RADAR'],\n",
       "      dtype='object')"
      ]
     },
     "execution_count": 3,
     "metadata": {},
     "output_type": "execute_result"
    }
   ],
   "source": [
    "data.columns"
   ]
  },
  {
   "cell_type": "code",
   "execution_count": 4,
   "metadata": {},
   "outputs": [],
   "source": [
    "melted_data = pd.melt(data, id_vars=[\n",
    "    'id', 'File', 'Topic', 'Student', 'ChatGPT-3', 'ChatGPT-4',\n",
    "       'GPT-4_Paraphrasing.io', 'GPT-4_Paraphrasing.io_MANUALLYCORRECTED',\n",
    "       'GPT-4_Quillbot', 'GPT-4_Grammarly', 'GPT-4_WordAi', 'STUD_spacy',\n",
    "       'STUD_lemma', 'GPT3_spacy', 'GPT3_lemma', 'GPT4_spacy', 'GPT4_lemma',\n",
    "       'STUD_sent_count', 'GPT3_sent_count', 'GPT4_sent_count',\n",
    "       'STUD_word_count', 'GPT3_word_count', 'GPT4_word_count'], \n",
    "       var_name='Category', value_name='RADAR_output')"
   ]
  },
  {
   "cell_type": "code",
   "execution_count": 5,
   "metadata": {},
   "outputs": [
    {
     "data": {
      "text/html": [
       "<div>\n",
       "<style scoped>\n",
       "    .dataframe tbody tr th:only-of-type {\n",
       "        vertical-align: middle;\n",
       "    }\n",
       "\n",
       "    .dataframe tbody tr th {\n",
       "        vertical-align: top;\n",
       "    }\n",
       "\n",
       "    .dataframe thead th {\n",
       "        text-align: right;\n",
       "    }\n",
       "</style>\n",
       "<table border=\"1\" class=\"dataframe\">\n",
       "  <thead>\n",
       "    <tr style=\"text-align: right;\">\n",
       "      <th></th>\n",
       "      <th>id</th>\n",
       "      <th>File</th>\n",
       "      <th>Topic</th>\n",
       "      <th>Student</th>\n",
       "      <th>ChatGPT-3</th>\n",
       "      <th>ChatGPT-4</th>\n",
       "      <th>GPT-4_Paraphrasing.io</th>\n",
       "      <th>GPT-4_Paraphrasing.io_MANUALLYCORRECTED</th>\n",
       "      <th>GPT-4_Quillbot</th>\n",
       "      <th>GPT-4_Grammarly</th>\n",
       "      <th>...</th>\n",
       "      <th>GPT4_spacy</th>\n",
       "      <th>GPT4_lemma</th>\n",
       "      <th>STUD_sent_count</th>\n",
       "      <th>GPT3_sent_count</th>\n",
       "      <th>GPT4_sent_count</th>\n",
       "      <th>STUD_word_count</th>\n",
       "      <th>GPT3_word_count</th>\n",
       "      <th>GPT4_word_count</th>\n",
       "      <th>Category</th>\n",
       "      <th>RADAR_output</th>\n",
       "    </tr>\n",
       "  </thead>\n",
       "  <tbody>\n",
       "    <tr>\n",
       "      <th>0</th>\n",
       "      <td>0</td>\n",
       "      <td>essay01.txt</td>\n",
       "      <td>Should students be taught to compete or to coo...</td>\n",
       "      <td>It is always said that competition can effecti...</td>\n",
       "      <td>Education is not only about acquiring knowledg...</td>\n",
       "      <td>Title: Fostering Cooperation and Competition i...</td>\n",
       "      <td>Title: Promoting cooperation and competition i...</td>\n",
       "      <td>Title: Promoting cooperation and competition i...</td>\n",
       "      <td>Title: promoting cooperation and competition i...</td>\n",
       "      <td>Title: Fostering Cooperation and Competition i...</td>\n",
       "      <td>...</td>\n",
       "      <td>Title: Fostering Cooperation and Competition i...</td>\n",
       "      <td>title : foster Cooperation and Competition in ...</td>\n",
       "      <td>16</td>\n",
       "      <td>12</td>\n",
       "      <td>12</td>\n",
       "      <td>367</td>\n",
       "      <td>258</td>\n",
       "      <td>215</td>\n",
       "      <td>STUD_RADAR</td>\n",
       "      <td>0.57065</td>\n",
       "    </tr>\n",
       "  </tbody>\n",
       "</table>\n",
       "<p>1 rows × 25 columns</p>\n",
       "</div>"
      ],
      "text/plain": [
       "   id         File                                              Topic  \\\n",
       "0   0  essay01.txt  Should students be taught to compete or to coo...   \n",
       "\n",
       "                                             Student  \\\n",
       "0  It is always said that competition can effecti...   \n",
       "\n",
       "                                           ChatGPT-3  \\\n",
       "0  Education is not only about acquiring knowledg...   \n",
       "\n",
       "                                           ChatGPT-4  \\\n",
       "0  Title: Fostering Cooperation and Competition i...   \n",
       "\n",
       "                               GPT-4_Paraphrasing.io  \\\n",
       "0  Title: Promoting cooperation and competition i...   \n",
       "\n",
       "             GPT-4_Paraphrasing.io_MANUALLYCORRECTED  \\\n",
       "0  Title: Promoting cooperation and competition i...   \n",
       "\n",
       "                                      GPT-4_Quillbot  \\\n",
       "0  Title: promoting cooperation and competition i...   \n",
       "\n",
       "                                     GPT-4_Grammarly  ...  \\\n",
       "0  Title: Fostering Cooperation and Competition i...  ...   \n",
       "\n",
       "                                          GPT4_spacy  \\\n",
       "0  Title: Fostering Cooperation and Competition i...   \n",
       "\n",
       "                                          GPT4_lemma STUD_sent_count  \\\n",
       "0  title : foster Cooperation and Competition in ...              16   \n",
       "\n",
       "  GPT3_sent_count GPT4_sent_count STUD_word_count GPT3_word_count  \\\n",
       "0              12              12             367             258   \n",
       "\n",
       "   GPT4_word_count    Category  RADAR_output  \n",
       "0              215  STUD_RADAR       0.57065  \n",
       "\n",
       "[1 rows x 25 columns]"
      ]
     },
     "execution_count": 5,
     "metadata": {},
     "output_type": "execute_result"
    }
   ],
   "source": [
    "melted_data.head(1)"
   ]
  },
  {
   "cell_type": "code",
   "execution_count": 9,
   "metadata": {},
   "outputs": [
    {
     "data": {
      "text/plain": [
       "[[Text(0, 0, 'Human'),\n",
       "  Text(1, 0, 'GPT3'),\n",
       "  Text(2, 0, 'GPT4'),\n",
       "  Text(3, 0, 'Quillbot'),\n",
       "  Text(4, 0, 'Grammarly'),\n",
       "  Text(5, 0, 'WordAI'),\n",
       "  Text(6, 0, 'Para Raw'),\n",
       "  Text(7, 0, 'Para Edited')]]"
      ]
     },
     "execution_count": 9,
     "metadata": {},
     "output_type": "execute_result"
    },
    {
     "data": {
      "image/png": "[encoded data removed]",
      "text/plain": [
       "<Figure size 1008x504 with 1 Axes>"
      ]
     },
     "metadata": {
      "needs_background": "light"
     },
     "output_type": "display_data"
    }
   ],
   "source": [
    "plt.figure(figsize=(14, 7)) \n",
    "g = sns.boxplot(data=melted_data, y='RADAR_output', x='Category')\n",
    "g.set(xticklabels=['Human', 'GPT3', 'GPT4', 'Quillbot', \n",
    "                   'Grammarly', 'WordAI', 'Para Raw',\n",
    "                   'Para Edited'])\n"
   ]
  }
 ],
 "metadata": {
  "kernelspec": {
   "display_name": "radar_env",
   "language": "python",
   "name": "python3"
  },
  "language_info": {
   "codemirror_mode": {
    "name": "ipython",
    "version": 3
   },
   "file_extension": ".py",
   "mimetype": "text/x-python",
   "name": "python",
   "nbconvert_exporter": "python",
   "pygments_lexer": "ipython3",
   "version": "3.7.12"
  }
 },
 "nbformat": 4,
 "nbformat_minor": 2
}
