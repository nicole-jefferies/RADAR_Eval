{
 "cells": [
  {
   "cell_type": "code",
   "execution_count": 1,
   "metadata": {},
   "outputs": [
    {
     "name": "stderr",
     "output_type": "stream",
     "text": [
      "/home/nicole/miniconda3/envs/radar_env/lib/python3.7/site-packages/tqdm/auto.py:21: TqdmWarning: IProgress not found. Please update jupyter and ipywidgets. See https://ipywidgets.readthedocs.io/en/stable/user_install.html\n",
      "  from .autonotebook import tqdm as notebook_tqdm\n"
     ]
    },
    {
     "name": "stdout",
     "output_type": "stream",
     "text": [
      "detector and tokeniser successfully loaded\n"
     ]
    }
   ],
   "source": [
    "from RADAR_set_up import *\n",
    "\n",
    "import pandas as pd\n",
    "import matplotlib.pyplot as plt\n",
    "\n",
    "import regex as re\n",
    "import numpy as np"
   ]
  },
  {
   "cell_type": "markdown",
   "metadata": {},
   "source": [
    "#### Setup RADAR + Helper Functions"
   ]
  },
  {
   "cell_type": "code",
   "execution_count": 2,
   "metadata": {},
   "outputs": [
    {
     "name": "stdout",
     "output_type": "stream",
     "text": [
      "detector and tokeniser successfully loaded\n"
     ]
    }
   ],
   "source": [
    "%run RADAR_set_up.py"
   ]
  },
  {
   "cell_type": "markdown",
   "metadata": {},
   "source": [
    "#### Read Data"
   ]
  },
  {
   "cell_type": "code",
   "execution_count": 3,
   "metadata": {},
   "outputs": [],
   "source": [
    "post_RADAR_data = pd.read_csv('topics-post-RADAR-data.csv')"
   ]
  },
  {
   "cell_type": "markdown",
   "metadata": {},
   "source": [
    "#### Paragraph Distribution"
   ]
  },
  {
   "cell_type": "code",
   "execution_count": 4,
   "metadata": {},
   "outputs": [
    {
     "name": "stdout",
     "output_type": "stream",
     "text": [
      "The last decade has seen an increasing number of tourists travelling to visit natural wonder sights, ancient heritages and different cultures around the world. While some people might think that this international tourism has negative effects on the destination countries, I would contend that it has contributed to the economic development as well as preserved the culture and environment of the tourist destinations. \n",
      " Firstly, international tourism promotes many aspects of the destination countryâs economy in order to serve various demands of tourists. Take Cambodia for example, a large number of visitors coming to visit the Angkowat ancient temple need services like restaurants, hotels, souvenir shops and other stores. These demands trigger related business in the surrounding settings which in turn create many jobs for local people improve infrastructure and living standard. Therefore tourism has clearly improved lives in the tourist country.\n",
      " Secondly, through tourism industry, many cultural values have been preserved and natural environments have been protected. For instance, in Vietnam, many cultural costumes and natural scenes, namely âTrong Dongâ drum performance and âHa Longâ bay, are being encouraged to preserve and funded by the tourism ministry. Without this support and profit from tourism, many traditional cultures would disappear due to its low income works. Thus, tourism has survived many non-tangible cultural values and beauty scenes. \n",
      " To conclude, as far as I am concerned, international tourism has both triggered economic development and maintained cultural and environment values of the tourist countries. In addition, the authorities should adequately support these sustainable developments.\n"
     ]
    }
   ],
   "source": [
    "print(post_RADAR_data['Student'][2])"
   ]
  },
  {
   "cell_type": "code",
   "execution_count": 5,
   "metadata": {},
   "outputs": [],
   "source": [
    "STUD_paragraph_counts = []\n",
    "\n",
    "for text in post_RADAR_data['Student']:\n",
    "    text = text.strip('/n')\n",
    "    STUD_paragraph_counts.append(text.count('\\n')); "
   ]
  },
  {
   "cell_type": "code",
   "execution_count": 6,
   "metadata": {},
   "outputs": [
    {
     "data": {
      "image/png": "[encoded data removed]",
      "text/plain": [
       "<Figure size 432x288 with 1 Axes>"
      ]
     },
     "metadata": {
      "needs_background": "light"
     },
     "output_type": "display_data"
    }
   ],
   "source": [
    "x = [i for i in range(3,11)]\n",
    "y = [STUD_paragraph_counts.count(i) for i in range(3,11)]\n",
    "f = plt.bar(x, y)\n",
    "\n",
    "plt.title('Paragraphs Distributions of Human Texts')\n",
    "plt.xlabel('Number of Paragraphs')\n",
    "plt.ylabel('Number of Texts')\n",
    "\n",
    "for i in range(len(x)):\n",
    "    plt.text(x[i], y[i], str(y[i]), ha='center', va='bottom')"
   ]
  },
  {
   "cell_type": "code",
   "execution_count": 7,
   "metadata": {},
   "outputs": [
    {
     "name": "stdout",
     "output_type": "stream",
     "text": [
      "5 More than 1.6 billion people in the world are either overweight or obese and United States has the highest rate of obesity. America's number one killer is cardiovascular diseases, which can easily be prevented by exercising. Exercise not only reduces the risk of health problems and various diseases, but it also has an effect on overall appearance. It is proven that exercising and being active can improve self-esteem and confidence. Excerising is one of the most important things in life and it can even be fun. It is a crucial element for living a healthier, longer, and happier life. \n",
      " The number one reason why people should exercise is because it will keep you healthy. Americans are eating enormous amounts of fast foods these days, so cardiovascular diseases are becoming more and more common. One out of every four Americans are suffering from some form of cardiovascular diseases, which results in more than forty-five percent of deaths annually. The main cause for this condition is obesity. The more body fat that you have, the greater your risk for heart disease. However, this condition can easily be prevented or controlled by exercising. Exercising makes the heart muscles stronger. When your heart muscle is strong it can do the same amount of work at a lower heart rate, so the heart doesn't have to work as hard as it does with weak muscles. In today's society people are less concerned with the food they eat and their physical condition, so many serious illnesses are becoming quite common. Exercising not only helps prevent cardiovascular diseases, but it also helps prevent strokes, type 2 diabetes, and even certain types of cancer. \n",
      " The second benefit to exercising is that it improves self-esteem and confidence. Most people think of exercising as only being a physical activity, but it's also a mental activity. There have been studies that show evidence that people who exercise have higher self esteem and confidence. It also showed that active people are less likely to have depression and anxiety. Exercising gives people energy, which helps people have positive outlooks on life and it helps relieves tension and stress. When you exercise you body releases endorphins, which are chemicals that create a happy feeling in brain. Plus, when you're exercising you're bringing more oxygen into you lungs and your brain appreciates the extra air. Exercising also helps improve you brain function and your memory.\n",
      " In my opinion the best reason to exercise is that it's really fun! Most people think that exercising takes up a lot of time and it requires too much work. When people actually take the time to try exercising they realize it's an enjoyable experience. It doesn't matter how you exercise, as long as you are being active. Everyone enjoys different sports or activities, so it's important to figure out which is best for you. When you having fun you don't even realize that your exercising and you look forward to it everyday. Setting goals and rewards will help you stay motivated and consistent with exercising. There is no greater feeling than achieving a weight lose goal and being able to feel good about your body. It makes exercising well worth it.\n",
      " In conclusion, exercising is the key to making your life healthier, longer, and happier. It is one of the most important things in life and it's one hundred percent beneficial. Many people come up with plenty of excuses to not exercise; however, if you truly want to improve your mental and physical health you will find the energy and time to exercise. Everyone should take time out of their days to exercise, so they can improve their lives in many ways. So next time you are deciding whether or not to exercise just think of the benefits you will experience from it. It is extremely rewarding and worthwhile.\n",
      "9 There is not a single piece of history that determines whether or not same sex marriage is right or wrong. There is absolutely no legal, logical, or governing reason that same sex couples cannot be wed and it's extremely unconstitutional in every way to tell them they can't. Same sex marriage should be legal for a number of reasons, a few being, it's no one else's business if two men or two women want to get married, not allowing them to marry makes them seem inferior, and it rids them of their civil rights.\n",
      " In the book Gay marriage by Kate Burns, it states \"Who owns marriage? In other words, who defines marriage? Who allows marriage, and who enforces it?\" (22) It's wrong to tell two people who love each other that they cannot marry; it's nobody's business who you fall in love with. Just like it is no one's business to tell same sex couples they should not be able wed. Same sex couples just want the benefits of being married like everyone else and there is no proof saying that it is wrong for them to have those benefits. By not allowing them to marry all that America is doing is depriving same sex couples of their rights to care for each other and provide for each other. A common married couple gets benefits on health, gets to make decisions that are best for their spouse in extreme cases, and gets to inherit their spouse's belongings in death. \n",
      " Making same sex marriage illegal also makes the people who are attracted to the same sex feel inferior. Nobody likes feeling inferior, or like they a below standards, by making sex marriage illegal you are making people who are attracted to the same sex feel and seem inferior to others. Homosexuality is not a conscious choice; it's something they are born with. Just like you didn't choose who you love, neither did they. So it's unfair to make same sex marriage seem inferior when it is no different. In the book Historical Guides to Controversial Issues in America Same-Sex Marriage by Allene Phy-Olsen it states \"Recent decades have seen much interest in the idea of diversity. The argument for same sex marriage asserts that it is hypocritical to deny the full rights and opportunities of citizenship which includes the access to an institution as basic as matrimony\" (76) You would never make a women feel inferior for being a women, so why should you make a man or a women feel like they are less just based on who they love. \n",
      " Same sex marriage being illegal rids the couple of their civil rights. Civil rights are something people have worked hard to maintain over the years, abolishing slavery and treating women equally. Homosexual couples are no different. They deserve to have their civil rights fulfilled, just like women deserve to vote, they should be allowed to get married. Majority of the population against same sex marriage firmly believe the bible states that it is unholy for couples of the same gender to marry. Many people think that the word of the bible is comparable to law; however we have an amendment which protects our country from that exact situation. In the book The Constitution of the United States of America The Bicentennial keepsake edition, the first amendment provides that \"Congress shall make no law respecting an establishment of religion, or prohibiting the free exercise thereof ....\" (51) The fact that it's in the bible should not dictate the laws against same sex couples becoming wed. Not allowing same sex couples to marry is like saying all people born with a certain hair color should not be allowed marry people of other hair colors, It makes no sense. Laws have been changed for all sexes, races' and genders for the same purpose, equal rights. It is hypocritical to not allow same sex marriage to occur when it appeals to a large growing group of people. \n",
      " In the end same sex couples are really just couples and should be treated as such. They should be allowed the benefits of marriage, treated equally, not like they are inferior, and same sex couples should be allowed their civil rights. One day in the future this will be achieved.\n",
      "11 Why shouldn't schools do locker checks? Why do many students oppose locker checks? Random locker checks are not done to torment and/or invade the privacy of the students, but for many other important reasons which include school security. These checks are required because malicious students bring drugs and weapons to school and store them in the lockers. Random locker checks should be made obligatory and done frequently to assure the wellbeing of the students.\n",
      " In the first place, locker checks help increase the safety in schools. Safety is a problem in every environment and especially school. Drugs, alcohol, and firearms in lockers make a harmless place like school quite dangerous. School was known to be a secure environment for children where they could learn and have a have a fun time with friends. In the past 10 years that has all changed. The number of school shootings has increased significantly. Last year on April 16th the most deadly school shooting in U.S. history occurred. In this brutal massacre at Virginia Tech, 32 students were murdered and several more were wounded. To combat this growing epidemic, schools carry out repeated locker checks. \n",
      " In the second place, locker checks keep students healthy. Locker checks help students stay both physically and mentally healthy because it discourages students from bringing fire arms and especially drugs. As everyone knows, drugs induce immense physical damage and when it is overdosed drugs can lead to death. As a result, drugs completely destroy a student's life. To prevent problems like this locker checks are required. Without the use of drugs, school security will increase dramatically. If the school is safe, students will no be frightened or strained.\n",
      " Lastly, more students will comply with the school policies because there are frequent locker checks and other students are getting caught and punished for it. The students who are yet to be caught will learn from the mistakes of other students and will stop. To increase the effect of locker checks, they should be done with security guards and dogs. Security guards at school increase security and security dogs help find drugs with their noses. School is a place to learn, not a place to bring malicious substances, electronics and etc. So, only learning material should be brought to school. With the continued discouraging of bringing drugs and weapons, a completely secure school will become an accomplishable goal.\n",
      " Locker checks should be made mandatory and done frequently because they assure security in schools, makes students healthy, and will make students obey school policies in the future. Students should\tappreciate locker checks and other measures taken by the school to protect the school and the students. Privacy is a small price to pay for security against drugs and weapons. Like it or not, privacy will be invaded not only at school, so students have to accept it.\n",
      "19 Air pullution is an issue threatening the enviorement in many different ways such as causing holes in the ozone and affecting global heating in the nagitve way. I believe that more reponsibilities should put on private individuals and companies such as paying to clean up air pollution. \n",
      " First, in most industrialised countries, there is a number of companies that holds heavy factories in their constitutions. The waste products and harmful gases produced by these factories cause a significant amount of air pollution. While these companies make a huge amount of money from their bussinesses, most of them are not considering to take precautions to reduce the amount of air pollution. If these companies were obliged to pay to clean up the air pollution, they would at least make an effort to reduce the amount of air pollution they cause.\n",
      " Second, private individuals cause air pollution in several ways such as inessential use of cars and house heating. As house heating is a major need in the winter time, some households do not consider to use filters to reduce the amount of pollution that the heating causes. Instead of this, some expensive wehicles cause a huge amount of pollution. In my opinion, by charging private indiviuals for causing air pollution, that will at least contribute to reduce the amount of the pollution. \n",
      " On the other hand, I believe that governments should restrict the use of products that cause air pollution for both individuals and companies. Governments also should use an amount of money from their budgets to clean up the air, instead of putting all the responsibility to companies and private individuals. \n",
      " In conclusion, due to the fact that governments are responsible to provide a healthy enviorement for their inhabitants and they should be responsible from cleaning up the air pollution, both companies and private individuals should take the main part to clean up the air pollution.\n",
      "21 Persistent deliberation is happening as to whether it is desirable for the youth to go to university. In regard to the development of the country, some people believe that it is essential for young students to get high quality of education in universities, while others think that it is only one of causes to increase the rate of unemployment. In this essay, I will analyze both views first in order to come up with a fool-proof decision.\n",
      " To begin with, those who advocate the impracticability of university have several reasons. From their point of view, the fact is that there are numerous job opportunities for those who do not have the certification of university graduation, such as mechanics, sales persons, or engineers, and, furthermore, labors for graduates are in short supply. What is worse, the labor market for highly educated students is now too competitive to get a job after finishing their studying. In this regard it is a loss of national productivity that young people spend much time on searching for high salary jobs, even can be a sheer time-consuming.\n",
      " However, on the other side of the coin are voices in the opposition, saying that universities provide not only skills for careers, but also academic knowledge for the human race, such as bio science, politics, and medicine. These academic values are necessary to the progress of the world. More importantly, many researches in the ivory-tower have created ingenious discoveries and achievements for the development of modern society. Another significant factor of universities is that diverse experiences in the campus life can make the young generation more competently because there are a number of chances through internships, deeper discussion, independent life, and exchange scholarships.\n",
      " To sum up both contentions about the necessity of universities' education have reasonable justifications; however, I agree with the latter view. Although higher education does not guarantee young students' success, the benefits of learning in universities are the vital factor in creating more possibilities for the development of society through advancing academic fulfillment and the young generation who have experiences and challenges.\n",
      "\n",
      "26 As is commonly understood, there is an increasingly gap between developed countries and developing countries. It can be seen that some developed countries and organization are proving financial assistance to the impoverished countries. However, it is disagreed that this can be the best and only way to assist developing countries. This will be proven by analyzing the necessity of developing their education and the real objective of supporters.\n",
      " Firstly, education is an essential part in development. For instance, most developing countries are lack of educational resources, such as experienced teachers, evaluation systems and teaching facilities, which is usually neglected by local authorities. From this example, it is obvious that if the developed countries are unwilling to share their successful experience in education, the developing countries will remain undeveloped, even though they gain a great deal of economic support. Thus, the critical method to improve the condition of poor countries is to help them build up a complete educational system instead of financial aid.\n",
      " In addition, it is well acknowledged that there is no free lunch in the world. This means some powerful countries provide financial support in order to acquire the right to exploit the local resources and target the local labour market. Indeed, they rarely provide local residents with any technological aid and even cause contamination in some areas. Therefore, developing countries should not totally depend on the financial support from powerful countries.\n",
      " In conclusion, financial aid is not the only way to assist poor countries. And it has been proven that developing education and improving national technology and science level are the path they have to undergo if they really want to alter current situation.\n",
      "\n",
      "33 Many people believe that children should study at school to have more knowledge that prepare better for their future. Others, however, think that these children may disrupt their school work and should be allowed to leave school early to find a job. Personally, I tend to agree with the point of view that student have to be forced to study at school.\n",
      " First of all, schools offer to students a good environment with experienced professors and high quality programs for studying. It creates the best conditions for students education and can force them to focus on their school work instead of wasting their time to do useless things. Second of all, schools provide lots of academic knowledge to students. Students may learn professional skills, expand their understandings and gain experiences. Therefore, they have more opprotunities to find a job and to be successful in the future. For example, as we know, employer always prefer to hire an employee of high degree who have professional skills.\n",
      " Nevertheless, it is not unreasonable that some people think that children should interrupt their school work and get a job. Whether children can learn a lot at school, there are many subjects that will be of little value to them in the future. Furthermore, children can learn social skills when they have a job. They can get more experiences that can not be obtained at school. Working helps children be more independent and teach them to esteem and manage the money that they've earned.\n",
      " Overall, I believe that students should study at school. Even though there are some advantages of leaving school to find a job, studying at school is always the best choice for children's future. There are many ways that can train children to learn independent and social skills instead of getting a job.\n",
      "\n",
      "34 Nowadays, we can see advertisements everywhere, from television set to posters on the streets. Some people believe that these various advertisements get people to buy products that are unnecessary and only look good on television. I tend to agree with this view.\n",
      " To boost their sales and win over customers, companies pour a great amount of money into advertising. Most of the time, it is not about the function or quality of the commodities themselves but really the promotion of the good feeling of possessing the product. By which I mean, huge cooperation hire celebrities as the face of their product. By casting famous singers in their television advertisement, motorcycles or clothes for example, sales increase significantly since youngsters, as the target consumers, love celebrities. Since having these products shows their status, the quality obviously is not relatively important.\n",
      " However, despite the fact that advertisements can be falseful and exaggerated, it is also true that it plays and important role economically. They introduce new products, and provide various choices, not to mention they are often visually enjoyable, since they aim to grab your attention. Advertising also helps to keep prices at reasonable levels, creates a fair environment for commercial competition. Otherwise the market may be monopolistic, and the price as well as the choice will not be so selective.\n",
      " The power of advertising maybe over-rated, we can not deny that the final decision is on the hands of us consumers. No matter how appealing the advertisements are, we should be able to make the decision on our own.\n",
      "\n",
      "36 International sporting events are a good change to create a multi-nation community of fans having the same passion. It will help people around the world understand each other more. Since, international sporting occasions are essential in easing international tensions and releasing patriotic emotions in a safe way.\n",
      " An international sporting event is normal held in a country with huge interest from fans all over the world. For the time of occasions, people regardless of nationality, origin and religion will live together. People can understand more about a country, it is useful to ease tensions between nations. For example in FIFA World Cup 2010, the relation between North Korea and South Korea is dangerous for the warship sinking. The world suspected North Korea of the aggressive action. However, due to this event North Korea showed a friendship and enthuasism. It is rare times when people can learn about this country. It really help to alleviate the tension.\n",
      " Besides easing tensions, an international sporting event also helps fans release patriotic emotions in a safe way. When they garther together to encourage their team, they will show their patriotic emotions. Regardless of the competition between teams, their emotions are always released in a safe way due to the sole passion of the sport. Moreover, all fans know that a sport event will attract the attention of whole the world and a lot of public media. They will try to create a beautiful image about their land and people. In Olympic Beijing 2008, Chinese tried thier best to bring the world a spectacular image about their country. First of all, foreigners came here always received the support of friendly volunteers who were young students. They were welcomed by each Chinese hospitality, beauty in each cities. Everythings is created by patriotic emotions of Chinese who wanted to bring a beautiful China to the world.\n",
      " In conclusion, International sporting events will draw the international concern. It will make the world more peaceful by easing internation tensions and releasing patriotic emotions in a safe way.\n",
      "\n",
      "40 The purpose of this essay is to discuss what can students and the organizations benefit from the activity that the students sent by their schools to work for companies without salaries. In this essay, I would start by analyzing the advantages for doing this for both students and companies, and then I would draw a conclusion at the end.\n",
      " To begin with, students can learn invaluable experiences through the period of time working for the institutions they are assigned to. In most school curriculums, the courses are theoretical and often by instructors speaking to students sitting in the classroom. As a result, students might have little idea of the real challenges or the true situation when they enter the workforce after graduation. For this reason, the internship, although without pay, can give them the experiences that money cannot buy.\n",
      " As for the companies, the unpaid interns can no doubt save some money. In addition, the younger generations can help them generate new ideas as the students are not bound to restricted workload and they tend to have greater imagination, which can be essentially helpful when they are making a new advertisement or slogan. Moreover they can start looking for potential employees and begin the training, therefore save the time and resources for searching new staffs and organizing an orientation.\n",
      " To sum up, students can learn outside the textbook and classroom with a real working experiences that can be a great opportunity for future job consideration whereas organizations earn much more as they can not only save time and money but also be enlightened by what young people have to say.\n",
      "\n",
      "41 The purpose of this essay is to discuss whether or not the only way to motivate employees to be more hard-working and productive is by raising their salaries. In this essay, I would start by analyzing the factors for higher yields and finish by stating my position on this.\n",
      " A raise or a promotion can no doubt increase the morale in the working places. Workers understand they have to work harder to meet the boss' expectations and to make themselves worthwhile. For instance, junior high school teachers have great responsibility not only for students' private lives as they are going through adolescence but also their school work due to the fact that it is an important phase for them to study hard and get into the high school they want. If the teachers receive higher salaries, they will be willing to spend more extra time mentoring the youngsters rather than hoping they learn in cram schools and so forth, as this is what is happening in Taiwan.\n",
      " Nevertheless, I believe that creating an enjoyable working environment is more realistic and essential if one wishes an increase in productivity and better employee performances. Take Google for example, the company offers recreation rooms and extra personal leaves for their workers to develop a more relaxing and supportive workforce. By doing this, the employers can make sure the employees can actually focus and concentrate on their projects instead of thinking about their children or feeling pressured.\n",
      " To sum up, I believe that a higher pay can be one of the incentive if were to encourage harder-working employees. Alternatively, providing a more secured and relaxing environment for workers can fundamentally boost their productivity since they will be feeling more cared for and therefore do their best for their bosses.\n",
      "\n",
      "42 For most folks on Earth, the need to gather in one place, and enjoy competition with other talented people from different cultures through popular games has always been a strong motivation. This trend is so deeply engraved in people's mind that the organisation of such events continue to be planned, even when some participants are facing grievous social problems. It is agreed that large scale sports games make people focus on attractive contests instead of international disputes, and help them being proud of their nation. This will be proved by analysing how sports events may be an important link to the peace, and by how they encourage people to display their national symbols.\n",
      " Firstly, during times of war, people living in badly affected countries can forget about the gloomy environment and maintain a link with the rest of the world by listening to international sports event. For example, when Irak was hardly struck by the Second Gulf War, its citizens tried to catch any incoming news about the FootballWorld Cup through their portable receivers. This clearly shows that international sports competitions encourage people and put pressure on them to come back, sooner or later, to a relative peaceful normality. Thus, world sports events strongly participate in eventually pulling back people towards friendship and peace.\n",
      " Secondly, these sporting occasions are a good opportunity for people to be proud of their country. For instance, when the Football World Cup was organised in South Africa, its citizens filled up the stadiums, cheered and waved national flags to support their national team on the field. South African national and traditional songs were played in the streets throughout the night. This example demonstrates how people might take numerous elements from their roots and history to proudly display them while supporting their team. As a result, it is clear that people can freely express their patriotic feelings during international sports events.\n",
      " In conclusion, after analysing the effects of world games both for countries at war and for organising countries, it is clear that they not only constitute a tremendous appeal towards a peaceful society, but also guide the public demonstrations of national proudness. This has been true for centuries and will certainly not change in the foreseeable future.\n",
      "\n",
      "43 The increasing population and the technological advancements demand more energy than in the past. It is believed that there are various other resources such as the nuclear and solar which are abundant and eco-friendly. I will analyze these areas in the essay.\n",
      " Firstly, the major source of energy today is water. Although there is a lot of water shortage to generate electricity many countries still rely only on this source. To generate such a vast energy the fundamental resources are falling short. Thus, during summer there will be a lot of power cut in the developing countries such as India. If the government encourage the use of nuclear, solar or wind energy there might not be any problem in distributing the required amount electricity. Therefore, it would be a good implication by the government to generate electricity from other available sources.\n",
      " Secondly, the sources most widely used currently to generate power releases extensive amount of gases into the atmosphere which increases global warming. For example, the use of a solar cooker instead of an electric cooker would certainly reduce the global warming. In the same way, the use of nuclear energy as an alternative to the hydro-kinetic energy causes less atmospheric pollution.\n",
      " To conclude, it would be a better implication by the government to promote other sources of energy. This can make use of the available natural resources which in turn would reduce the global warming. Further, government should motivate and encourage the people to use alternative sources such as the solar and the nuclear energy.\n",
      "\n",
      "45 Universities have quickly become the places to go when people seek to further develop their expertise. Whether this really suits the needs of their potential employers is highly unlikely as universities nowadays have evolved as a domain of experts: where more and more is known about less and less. Nevertheless, among the vast range of choices offered there are often some training courses that have direct implications on job-seeking and other aspects in everyday life. However, although I respect the universities' aim of providing such courses to develop skills required for work and support their cause, I do not believe it is the main or best function of a university.\n",
      " A university, in common sense, is a medium for conveying or providing access to knowledge. What is meant by this is that students are the ones universities should really cater for, not the employers, as students are the ones here to seek knowledge. High school graduates choose to further educate themselves in universities because of all different reasons: a degree that's more widely accepted, gain knowledge and insight into an industry, or simply deepen their research interests in a certain field.\n",
      " On the other hand, universities and be regarded as institutions where abundant educational resources gather. It is, therefore, not necessary for a certain course or type of training to be offered to the students by a university, but instead, these must be made available when needed. So the truth lies somewhere closer to the fact that a university should provide access to information, rather than offer selected courses that are suitable for employers' taste.\n",
      " In conclusion, the main function of a university remains as the provision of knowledge and access to resources. It would be helpful, however, if certain courses concerning workplace skills can also be made available to students to help shape their futures.\n",
      "\n",
      "46 Preserving wild animals in zoos is an issue which frequently generates a great deal of heated debate, with supporters maintaining that wild life would be taken good care from professionals, while opponents claim that the animals are deprived of freedom as a result of staying in zoos. From my perspective, animals should live in natural habitats instead of zoos.\n",
      " To begin with, it is the right of wild species to live in a environment away from human beings. Given the fact that human beings are responsible for the heavy pollution and severe damage to the natural habitats of many wild animals, it is our responsibility to create a natural and safe environment for animals to live in. Apparently, the limited space and the artificial trees and lakes can not fully compensate the animals for their loss. Moreover, if rural animals are captured in the zoo for a long period, it would have negative influences on both the physical and psychological status of the creatures. As a result, the wild species would suffer from isolation and depression. It seems that zoos are more likely to be a killer rather than a protector in protecting wild lives.\n",
      " Nevertheless, supporters would argue that zoos, which are equipped with modern facilities and professionals, would provide better care for the animals inside. They further point out that the endangered species preserved in zoos would never die of illegal hunting. However, I would contend that the strict laws prohibiting poaching would provide a shelter for various kinds of animals in natural habitat. It seems that the growing number of natural habitat would be the ultimate solution of saving wild animals worldwide.\n",
      " By way of conclusion, it is my belief that wild animals should be set free from zoos not only because they have the right to enjoy freedom but they also escape from isolation and depression.\n",
      "\n",
      "47 A matter of considerable controversy at present is the issue of whether distance-learning should be promoted as much as possible, or rather attending lectures in person should be allowed to take a predominant place in universities because this way of learning is superior than online degrees. From my perspective, online-teaching should be widely used among colleges and universities in terms of convenience and optimizing cost for educational institutions.\n",
      " To begin with, distance-learning brings significant convenience for students in every corner of the world. In earlier times, students who were tired of commuting had to attend schools nearby, regardless of any differences in teaching facilities, teacher's qualifications or the school reputation. Now, however, students are able to apply for online-courses provided by top-of-the-range universities and colleges worldwide. Furthermore, the presence of video conferencing allows a teacher to teach a greater number of students. Consequently, educational institutions are able to optimize costs by increasing teacher-student ratios. Thanks to the economical online-teaching, universities and colleges are able to offer grants for students who have outstanding academic achievements but are unable to attend schools because of financial constrains.\n",
      " Nevertheless, opponents of online-degrees would argue that attending lectures in person provides students an opportunity to communicate with teachers and other classmates. They further point out that traditional teaching approaches involving discussion and cooperation among students play a significant role in campus life. It is the real interactions and communications in class make education much more attractive.\n",
      " By way of conclusion, it is my belief that distance-learning will become increasingly important in the future as the pace of life increases. However, discussions and interactions should be held via video conferencing frequently so that the joy of learning would not be diminished.\n",
      "\n",
      "48 Modern communication technologies such as mobile phones, e-mails and internet chat programs like the MSN Messenger have brought significant changes to our lives in recent years. Yet, there remains some disagreement as to whether the overall effect of this innovation has been positive or negative. Although there are valid arguments to the contrary, it is my belief that the majority of people in the globe have benefited greatly from these powerful and effective means of modern communication.\n",
      " To begin with, mobile phones and other tools of modern communication facilitate not only contact with friends and relatives in faraway places but also global business. With the click of a button, the vast amount of information can be transmitted from America to China in just a few seconds. Furthermore, it is generally felt that the access to these tools of communication is available in every corner of the world. With a mobile phone or a laptop, a person can talk or send messages online at a bus stop, in a corner shop or anywhere they could imagine. Therefore, it seems that these new forms of communication do bring a great deal of convenience to humankind.\n",
      " Nevertheless, opponents of modern communications claim that only the more privileged are able to enjoy the benefits. They further point out that the wide spread use of these efficient and effective ways of communication costs a considerable amount of money. Anyone who aims to use these innovations have to not only pay for the appliances such as a mobile phone or a computer but also cover up costs for communication services. Consequently, people who live in poverty are less likely to be benefited from modern communication technologies.\n",
      " By way of conclusion, I believe that modern communication technologies will benefit more people in the future as the pace of life increases; however, the have-nots cannot be ignored simply because they couldn't afford it.\n",
      "\n",
      "49 Most people claim that in high school music must be taught as a main subject, while others say that this is an unnecessary subject and should at least be optional. In this essay I will give my opinion for both sides.\n",
      " It is obvious that music has a great power which can positively influence on human being and its psychology. Therefore, many university authorities provide music lessons for their students so that they live and study in a harmony with music. I have an impression that students, who spend a great deal of their time studying different academic subjects should have an opportunity to cope with the stress gained during school time. In this case, music can be a useful and interesting solution. Moreover, if musical activity involves many participants, there will be co-operation and developed team work in the group, which is, of course, beneficial in their future life. In fact, students with a quite poor academic background can show themselves in the music. Consequently, the calm atmosphere in the class might be created.\n",
      " By contrast, it is clear that music can have many mentally enhancing effects on students. In our hectic life, however, demand is not for musically orientated students, but for academically developed employees. Hence, I agree with the majority, because music is the art which requires special attitude towards it. Increasingly however, students can not obtain supposed impacts, unless they get interested in it more seriously. Therefore, music and other entertaining subjects should be optional. Nowadays, time is the most valuable thing in life with increased pace. To my mind, students are to develop their professional skills by learning occupation-related subjects, rather than playing on guitar or singing a song.\n",
      " In conclusion, I think that in order to be a competitive worker, students must know their field in an advanced level. On the other hand, music can help an individual to shape its character. An integration of music into learning process bound to be successful when it is not compulsory.\n",
      "\n",
      "50 A matter of considerable controversy at present is the issue of whether developments in agriculture are beneficial to humankind, or rather these developments should be allowed to die out just as many inappropriate innovations have in the past. From my perspective, these developments in agricultures should be preserved for the sake of the benefits of all human beings.\n",
      " To begin with, innovations in agriculture such as mechanized farming and the creations of genetic engineering foods may be the only way to feed the vast number of people in every corner of the world. Imagine the tragedies that would ensue if people lived in famine and started to eat people to survive. Therefore, governments around the world have the obligation to fund in technological developments in farming in order to make an enough production of food for its people. Another reason for applied technology in agriculture is the low-priced foods resulted from the widely used of factory farming. Thanks to the lower expenditure in food consuming, low income people now have sufficient money to cover up costs in health and education.\n",
      " Nonetheless, opponents of modern technology in agriculture would argue that the proliferation of GE food and factory farming are detrimental to people's health. They further suggest that food which is genetically modified interrupts the natural balance of the ecosystem and would return to haunt us in unexpected ways. In other words, although technological developments in agriculture is beneficial in the short term, its long term negatives are significant.\n",
      " In reality, of course, the wide spread use of modern technology in agriculture may be problematic in itself; however, given the seriousness of food insufficiency through out the world, I believe this would be the ultimate goal.\n",
      "\n",
      "51 With the development of globalization, English became the dominated language in national trade, conference and many important events. This phenomenon has aroused a heated discussion in public.\n",
      " Some people claim that the prevalent of English brings a great number of benefits for people. First of all, it promotes the communication and interaction between different countries more conveniently and clearly. In the ancient time, the different languages and geography set barriers for people to exchange their goods and ideas. Fortunately, the innovation of plane and train solved the geographical barriers. If we can popularize the use of English, the language hinder will disappear as well. In addition, English is a beautiful language, which is more systematical and extensive than many other languages. Learning English can foster people's sentiment and nourish their literature and art.\n",
      " However, the opponents believe that the dominated status of English has destroyed culture diversity and many less-used languages become extinct. Even English is a sophisticated language; it does not express every detail of life especially in Asia countries, which have totally different linguistic system. It is undeniable that language contains many aspects of people's daily life, which is influenced by culture, environment as well as religious. Obviously, these languages have special significance for people who belong to them and using English to replace them is crudity.\n",
      " Personally, English as an elegant language should be advocated in many fields to expand the global trade and communications. But, we still need preserve other languages for sake of keeping the linguistic and cultural diversity.\n",
      "\n",
      "52 Man has dominated all his fellow beings on earth because of his superior brain. He has domesticated a large number of animals and birds and makes use of them to make life easier and convenient for himself. Many people encourage the use of animals for their personal needs, while others are concerned that animals should not be misused. This essay will discuss some arguments for and against animal domestication.\n",
      " Human being has driven many animals for their personal use such as, cows and other milch animals for yielding milk from them. Likewise, other animals such as, horses, cattles and donkeys for farming, agriculture and as a mode of transportation. Many people keep pets like dogs and cats, trained them as service dogs and snuffing dogs which are very helpful to police force and even to some blind peoples. They are kept for security purposes in houses.\n",
      " On the other hand, many farmers and owners exploit animals beyond their limits. For instance, cows are often injected by Oxytocin, a hormone which is used to forcibly increase lactation. This in turn, causes lots of discomfort and pain to the cattle. Furthermore, thousand of animals undergo painful suffering or death as a result of scientific research of drugs and various products. Another example of this is cage farming which is against animal rights. Many other practices like, equestrian sport where horses run miles and miles and beaten up by jockeys to make them run more faster. And above all pleasure hunting of defenseless animals.\n",
      " From my prospective, human being should behave as a guardian to animals rather than as their lord or masters. Animal rights are meant to set limits on human behavior and manipulation of them should be punished as a serious crime.\n",
      "\n",
      "53 It is quite common that more and more people can watch exhibitions through television or internet at home due to modern technology; therefore, some people think museums and art galleries will disappear soon. Although modern technology make it possible, I still believe some museums and art galleries will not disappear.\n",
      " On the one hand, technology indeed simplifies people's life all the time. Obviously, people who watch exhibitions on TV or internet at home, save the time and money on the road, which is increasingly significant particularly to people in modern society. However, in accordance with recent research, experts suggest the lifestyle of individuals in modern society is unhealthy because they lack of physical exercise and face-to-face communication.\n",
      " On the other hand, the importance of museums and art galleries is plain in terms of education and culture. First of all, authentic exhibits cannot be completely displayed only by images and videos. It is like travelling to a place is much better than viewing the landscape of that place on TV or photos, so the best method to learn one thing is to experience it. Furthermore, museums and art galleries preserve some culture heritages; therefore, these buildings will not disappear unless people abandon their culture.\n",
      " In conclusion, I admit that modern technology has provided a more convenient and comfortable manner for people to watch exhibitions, but museums and art galleries are necessary to be preserved for its importance of education and culture.\n",
      "\n",
      "54 Presently, it is commonly accepted that students have to learn over eight subjects in school. Public retain differing views on whether to teach students all subjects or just focus on one subject. Some parents are satisfied with the full class schedule of their children. While, others claim that studying only one subject is more effective. Before rendering my own opinion, I will explore sides of this topic.\n",
      " The benefits of teaching students different units are easily recognized. In the first place, with some basic knowledge of diverse fields, students have more options in choosing specialized areas or jobs in the future. Teenagers are still too young and immature to decide what they are going to dedicate. In students' point of view, the combination of difficult and easy subjects balances their schoolwork stress and fosters their enthusiasm on classes. However, still many teenagers cannot enjoy the variation of the curriculum, instead, they feel more stressful with so much homework and exams to be done. Besides, most students regard the extra knowledge useless and impractical for their future jobs.\n",
      " Those who advocate focusing on one subject believe that this education model can cultivate more talents who specialized in different areas and increase studying effectiveness. This is probably because students can devote more time and efforts in one subject and reduce pressure from other subjects. However, the drawbacks of this teaching method cannot be neglected. Most importantly, under such target-oriented education environment, teenagers may be hard to regret their original choice and change their specialized field in their further study. Moreover, the dullness of course may deeply influence their passion on study.\n",
      " It is undeniable that concentrating on one subject can reduce students' pressure and foster the effectiveness in training talents, while its shortfalls are so vital to students' future. Therefore, I do support the view of learning all school subjects.\n",
      "\n",
      "55 In the present age, it is a matter of fact that increasing minority languages have diminished from the world due to the proliferation of English. Some people claim it's a reasonable loss in globalization while others argue the demerits exceed the merits. Personally, I agree with the former opinion.\n",
      " No one can deny the huge benefits of the trend that English is being accepted universally. To begin with, communication between countries and cultures become convenient. In my country, English is a required course from elementary school. Thus, studying abroad is easy and becomes hot among youngsters. For them, language obstacle is no longer a problem, which results in mutual understanding and trust between their mother land and the host country. This, in turn, enhances relationship and promotes international business. Furthermore, researchers, especially those who work on high-tech, would have wider range of references if they are good at English. Taking IT industry for an example, top technical science is published in English. It's neither to get a translated version of these articles, nor to always have a translator besides. As a result, they have no choice but choosing English as a second language.\n",
      " Admittedly, opponents may blame that English is making lesser-known languages disappear ever year. Hence, the culture heritage and nation identity vanish. However, this is really short-sighted, ignoring the rapid development of native economy and society.\n",
      " In conclusion, in spite of some negative effects, I'm totally convinced that the prevalent usage of English brings benefits to people and countries all around. I suggest all youths should learn English owing to its key role in globalization. But at the same time, actions, like recording, can be taken to protect native languages and cultures.\n",
      "\n",
      "66 Innovative artists bring enjoyment and inspiration to our sometimes tedious life; however, some people deem that artists have been entrusted with too much freedom and power and should be restricted by the government. It is my personal belief that freedom of expressing thoughts and ideas should always be eulogized and it's rather iniquitous to impose a shackle on artists' will to create.\n",
      " One of the major concerns against freeing artists' creation derives from the fear of social misleading which would destabilize the society; however, I believe the audiences have their own judgement and are not likely to be misled or influenced by some art work. It is needless to say that art inevitably involves imagination, exaggeration and sometimes is purely fabricated; regardless of whether the work of art is based on truth or not, it is the public's authority to determine how to interpret its meaning. If the art displays unreality, the public audiences certainly have the acumen to recognise its untruthfulness and only appreciate its art value; if the art reflects the reality, then what would be the intention to ban it if it was not for covering the dirty truth? Would it be autocratic if the government clamp down the artists who are telling the truth? In a word, the notion of being afraid of social misleading is unjustified.\n",
      " Let's then take a look at the impact that art has posed on individuals. It is undeniable that some of the art work may contain negative implications such as insanity, violence, eroticism etc. I absolutely agree that restrictions on exposure to adolescents should apply as adolescents are not mature enough to avoid being led astray by these contents; however, in the case of adults being the audience, there's really nothing to hide â these negative things objectively exist on this planet and it is impossible for adults to be brain-washed only because of some pieces of creative art.\n",
      " By way of conclusion, I do not root for the idea that restrictions should be put on artists work; on the contrary, they should be encouraged to express their innovative ideas â this world needs them to make itself colourful.\n",
      "\n",
      "67 The soaring crime rate has led to the proposal that it is time for the government to take action to control the proliferation of violent scenes in media.\n",
      " Obviously, violence in the media is often portrayed as extreme as possible in order to attract audiences. This will definitely set a bad example for the immature audiences who, lacking correct parental guidance and abilities to differentiate the right from wrong, are prone to go astray by imitating the violent behaviours and committing real violent crimes as they regard the violence as reasonable and justifiable.\n",
      " On the other hand, media, such as TV or film, is considered as the correct information source regulated by the government. It should be reporting and reflecting true phenomenon in the society. Violence, as one of the facts in the real world, certainly has to be reported. However, excessive violence would offer misleading information to the public and exert detrimental influence to the society as well. It is recently reported in the news that a seventeen-year-old boy killed all his family members, one sister and two parents out of hatred and jealousy. In the real world, we are inclined to take extreme approach to tackle a small problem due to excessive violence exposure.\n",
      " We cannot deny that our society is occupied with the violent scenes and plots at present. What the government should do immediately is to strengthen censorship to control the amount of violence in media. Otherwise, the violent crime rate will rise continuously and out of control someday.\n",
      "\n",
      "69 As we read newspapers or watch TV, we have always been attracted by environmental problems such as traffic issues, air and water pollution questions. Initiatives should be taken to address the specific problems. As the impacts for those pollution and traffic issues are extremely far-reaching, it is insufficient to increase the petrol price only to solve problems, though it is a promising method discussed in the contemporary society.\n",
      " Specifically, price control institution has been used in plenty of social areas, for example, in the farming products and in the real estate area; however, whether it can work out for alleviating traffic and pollution pressure ought to be evaluated. On one hand, governments have a macro-economic perspective to control price in various areas according to social demands. Consequently, it seems not easy to increase petrol price instantly. On the other hand, pollutions are not just caused by the burning of oil, chemical pollutants, extra lights, also constitute considerable amount of pollution. In addition, the improvements of work efficiency also attribute to the speed-up of working pace, resulting in traffic jams during rush-hours.\n",
      " As illustrated before, several other solutions can be introduced to assist in reducing pollution and traffic problems. Primarily, authorities should spare no efforts in improving public transportation facilities, such as constructing more bus lines, in order to reducing the usage of private cars. Furthermore, temporarily targets should be set, with regard to the limitations of pollutants in a certain period of time, for example, a season. Plus with supervisory institutions built to find and address problems. Meanwhile, cultivating a sense of environmental protection would also work out, though it might not be into effect immediately, but in the long run, it would be a wise choice.\n",
      " In conclusion, addressing pollution and traffic issues only by increasing oil price Is not adequate, while improving transportation facilities and building supervisory institution would be preferable, plus with the awareness of environmental protection being raised.\n",
      "\n",
      "71 Today, we no longer fear any contagious diseases, kudos to modern technology and medical advancement. However, it is the contagious behaviors such as addiction and the wrong abuse of drugs that continue to terrorize our society, especially the young ones. It is undeniable that drug addiction is indeed on the rise and effective solutions must be taken in order to trim down the number of drug addicts. Some suggest that it would be better if those caught red-handed using drugs be imprisoned. In my opinion, I disagree to the aforementioned resolution due to the reasons that I will put forward below.\n",
      " First of all, I do agree that some of the addicts do turn over a new leaf at the prison. Nevertheless, once they return to the society, they tend to relapse and get involved in drugs again. This is because, in the prisons, there would not be any programs or talks that can enlighten and transform them as well as change their perspectives towards drugs. As such, all the efforts of putting them behind bars are simply in vain. Instead, if the addicts are sent to rehabilitation centres, they will treated for their addiction. On top of that, counselors can provide them with counseling and motivation to help them build a new life.\n",
      " On the other hand, some argue that if the drug addicts are not given intense punishment, they will not change and continue to misuse drugs. Nonetheless, I believe that this is mainly due to the society not accepting the prisoners as a part of them. If only the society or the people surrounding the addicts give them a second chance, I am sure that they will never abuse drugs once more. The support alone is not sufficient. They can also report to the concerned parties about any misuse of drugs at the residential areas. Thus, with more public awareness, drug abuse can be certainly be reduced and eventually brought to a halt without having to put the addicts into jail.\n",
      " Everyone of us deserves a second chance in life. After all, we are human beings and we learn from our mistakes. Referring to the consequentalist theory, the society should allow leniency for people to experiment and learn, as long as it is on their own expenses. To put it in a nutshell, I believe that sending the drug addicts to rehabilitation centres acts as a beacon of hope for the affected individuals and is also a crucial step in helping them redeem their lives and rejuvenate their lost hopes for a better future rather than sending them to prison.\n",
      "\n",
      "72 \"A picture is worth a thousand words\" is a popular maxim that is being used for a very long time. This strongly depicts the power of images in conveying messages, ideas, or opinions to people. Nevertheless, the importance of written word can never be denied as it is also another way of communication that is commonly used. Hence, I agree only to certain degree that in today's world, image serves as a more effective means of communication.\n",
      " Firstly, pictures can influence the way people think. For example, nowadays horrendous images are displayed on the cigarette boxes to illustrate the consequences of smoking. As a result, statistics show a slight reduction in the number of smokers, indicating that they realize the effects of the negative habit. Not only that, the magnificent photograph captured by Kevin Carter, which portrayed a starving Sudanese child struck by extreme poverty has successfully highlighted the plight faced by the citizens in Sudan. Apart from that, images are also widely used in newspapers, magazines and advertisements. Thus, it is undeniable that images in the absence of words can obviously claim the attraction of many.\n",
      " Looking from another perspective, written words are also vital in order to spread across certain messages. With only pictures, everyone is left to their own interpretation on how they perceive the images. Nonetheless, this is different when words are used to explain what the illustration is about. Furthermore, the primary way of educating students is also by this way. Academic textbooks these days are laden with words besides pictures to guide the readers to comprehend better.\n",
      " To conclude, both images and words go hand in hand and one cannot wholly emphasise on only one aspect, either images or words. Hence, for a more meaningful communication, these two elements have their respective roles to play: image to exemplify and words to describe a particular subject.\n",
      "\n",
      "73 It is certainly true that some languages are disappearing day by day over the world. Some people, therefore, harbour a view saying that governments should preserve those by spending some budgets on them. But the others do not believe it is possible. In my opinion, this viewpoint needs to be examined thoroughly and this essay will discuss this issue.\n",
      " First and foremost, it is easy to realize that languages, especially oral language, are a quite major part of culture of a country. It helps people distinguish between nations and even regions in a country. The clearance of minority of language means that a national traditional, customs and habitants do not exist. Governments should spend money on keeping and preserving these things for the rich diversity of cultures which make our world more interesting. What is more, it is a pride of the country with a rage of culture which is easy to educate people to love their country more.\n",
      " On the other hand, there are some drawbacks from saving minority languages. Although governments invest money on doing that, it is hard to gain the good results. As evidence of this, there are a few people, particularly the youngsters, do not pay attention on collecting and studying those. These kinds of languages are usually difficult and unpopular. In addition, the preservations need a long time to gather, restore all information as well as train in the educational centre. If they do not try their best, their protection can be halted and waste of money.\n",
      " In a nutshell, I am convinced that all languages should be preserved and developed as much as possible. All people should give a hand to do this better and governments play a vital role on encouraging and distributing those.\n",
      "\n",
      "74 My view is that the government should give priorities to invest more money on the basic social welfares such as education and housing instead of subsidizing arts relative programs.\n",
      " Art is not the key determination of quality of life, but education is. In order to make people better off, it is more urgent for governments to commit money to some fundamental help such as setting more scholarships in education section for all citizens. This is simply because knowledge and wisdom is the guarantee of the enhancement of the quality of people's lives for a well-rounded social system.\n",
      " Admittedly, art, to some extent, serve a valuable function about enriching one's daily lives, for example, it could bring release one's heavy burden of study pressure and refresh human bodies through a hard day from work. However, it is unrealistic to pursuit of this high standard of life in many developing countries, in which the basic housing supply has still been a huge problem with plenty of lower income family have squeezed in a small tight room. By comparison to these issues, the pursuit of art seems unimportant at all.\n",
      " To conclude, art could play an active role in improving the quality of people's lives, but I think that governments should attach heavier weight to other social issues such as education and housing needs because those are the most essential ways enable to make people a decent life.\n",
      "\n",
      "75 Despite the development of modern society, the health care and education still remain the basic rights of citizens. And a much debated issue these days is whether or not the government should be responsible for citizens' health care and education.\n",
      " Some people argue that it is the government that should be obligated to fund the health care and education for citizens. This is because citizens enjoy the right to live in a harmonious and stable environment, which should be enabled by the government, the leader of the society. If citizens had no access to health care and education, their physical health and psychological soundness would be at risk. As a result, such people might fail to get cured in time, thus influencing their working efficiency, which would destabilize the production of the industry. Also, without sufficient guidance of teachers, these citizens might misbehave or even commit crimes, posing a threat to other citizens' security. Therefore, the government should be accountable for citizens' health care and education to keep society safe and stable.\n",
      " On the other hand, some people oppose the argument, saying it is a waste of public money for the government to subsidize health care and education of each citizen in society, since a great number of people, in fact, have had the capacity to pay for the both privately. Instead, the government should give priority to more pressing problems related to social members' wellbeing, such as soaring crime rate, AIDS epidemic or the shortage of infrastructure, which are requiring financial resources from the government to address.\n",
      " Personally, I think the government should fund the deprived for their health care and education, who are the group in real need for the authority's help. At the same time, citizens available for the both should encourage the government to allocate money to more urgent areas. After all, the harmonious society calls for the joint efforts of the government and citizens.\n",
      "\n",
      "79 Since the time they were introduced zoos have both been supported and criticized. Many believe that zoos could be very entertaining and ecologically important, whereas, others think that keeping animals in captivity is totally wrong. Both sides will be discussed before a reasonable conclusion is drawn.\n",
      " First, critics of zoology argue that keeping animals in captivity is wrong because animals should be considered non-human persons and they should have the right of having freedom. This is so unfair for them to be taken out of their natural environment and to be kept in small enclosures. That is because, many zoos, especially the ones in developing countries, do not provide care and attention which their animals require. The animals are often undernourished and do not have sufficient quality and quantity of medical treatment. In addition, sometimes animals from hot countries have to survive in the cold winter of somewhere in Europe.\n",
      " On the other hand, the advocators believe that zoos provide the public with good entertainment and also help to ensure the balance of the ecology. Many people, especially young children enjoy going to zoos and see their favorite animals, cute baby-born animals and the animals that are from the different corners of the world. Zoos provide educational information about the lives of different animals to the public. Also, zoos play an important role in reserving many breeds of animal and preventing them from being missing from life. This is due to the fact that, in zoos, animals are kept in enclosures which simulate their own habitats and also endangered animals are being protected from their predators or hunters. Thus zoos are needed to keep the nature balanced.\n",
      " In conclusion, both of the arguments have strong supports, but in my own view, more good come from zoos than bad. However, it is hoped that the standards of zoos should be leveled up to ensure that the animals in zoos are provided with good care and attention.\n",
      "\n",
      "81 Nowadays, the use of advertisement through different forms of media such as newspapers, radio and television has become very prevalent, so it is thought to be a necessary part of today's society. Many believe that advertising has brought great benefits to lives therefore it should be considered a positive activity while others have held a complete different idea about this. Both views will be critiqued before a reasonable conclusion is drawn.\n",
      " First, it is generally understood that advertising is carried out with the main purpose of promoting different products and services or encouraging people to consume more. Advertisements are, therefore, very important for many businesses to increase sales and hence profits. Also, to consumers, advertising can bring them many benefits. For example, customers of telecommunication services will have an idea about the current offers of different companies and hence they can compare them and then have a better decision in choosing their internet or mobile phone plans. From all of these, it is easy to see why the idea that advertising is a positive part of life will garner strong support.\n",
      " However, it can be seen that some people have argued against advertising due to its negative impacts. Firstly, a huge amount of different advertisements could be sent automatically by a system to personal phones or email addresses, this is generally known as spam, and causes discomfort or even annoyance to many people. Secondly, advertising can be very expensive and not every advertising campaign can be done successfully and brings good results. Therefore, advertising is believed by many, a financial burden to businesses.\n",
      " In conclusion, after analyzing the pros and cons of advertising, both of the views have strong support, but it is felt that more good comes from advertising than bad. Thus, the idea that advertising is a positive part of life can be more supported.\n",
      "\n",
      "85 Recently, the controversial debate surrounding universities has sparked interests among students and the media. Some of them deem universities principally provide training for people to be qualified employees. However, others support that it is more reasonable to set down universities as a centre of culture life where knowledge is transferred and updated. This essay will argue that the main functions of universities as the highest educational institution are teaching and researching.\n",
      " Firstly, imparting knowledge and educating people are basic duty of universities where people decide career direction and acquire more specialized knowledge and skills. Systematic and comprehensive training programs in specific fields urge people to master information required quickly and thoroughly. Nevertheless, universities are not only continuation of schooling but a platform where people start knowing more about society. The essential social capabilities such as communication skills, teamwork, leadership and time management are gradually cultivated with group workshops and various kinds of social activities in universities.\n",
      " Secondly, universities playing the most important role in education system have to guarantee the knowledge conveyed is true and useful, which can be achieved through the researching function. Old knowledge is applied to particular problems during research and solutions found often bring about innovations in culture and technology to promote human and communities to step forward.\n",
      " In conclusion, it can be seen that universities produce a great many of talents with outstanding teaching and advance the progress of human society with achievements in scientific research. Both teaching and researching working together lead to the success of today's universities.\n",
      "\n",
      "88 The differences between knowledge from books and from experience have erupted endless controversy. Various ideas and preferences have been presented. The purpose of my writing is to deeply discuss these sources of knowledge in two important aspects: accuracy and practicability, and to show my greater interest in knowledge accumulated from experience.\n",
      " First and foremost, the accuracy of knowledge is crucially important. It is apparent that books are often written by professors, experts, or authorities in a variety of fields. Therefore, knowledge acquired from books is greatly accepted, which means that it is right to the bulk of people. Meanwhile, knowledge from experience seems a little different from information contained in books. To cite an example, it is common in books that water boils at 100 Celcius degree. However, the result is not always the same in reality because it also depends on the height, the purity of the water, and even the measuring tool. By and large, each source of knowledge has its own accuracy rate.\n",
      " Next, the practicability is one of the most essential factors of knowledge. In my experience, information contained in books is usually put in criteria so that many people can read and understand the content. Consequently, it is difficult to apply knowledge from books into practice. Whereas, it is easy to put knowledge from experience in real life because it is acquired from what have happened to them. For instance, a student decides to learn about chemical reactions from books. This method is likely to be fast, simple, and even safe. Nevertheless, there is an increased likelihood that he neither remembers the necessary information for a long time nor knows how to do an make an experiment. Meanwhile, if he goes to the library and carries out the reactions, he is certain to have a thorough grasp of the phenomena seen. He is also able to use this information for the next times. Indeed, knowledge from experience helps people more than knowledge from books does.\n",
      " In conclusion, I would concede that knowledge from books is widely accepted. However, I consider knowledge from experience as the more important source because of its negative impacts on real life. Experiencing a thing and drawing information from it is really interesting and helpful.\n",
      "\n"
     ]
    }
   ],
   "source": [
    "for index, text in enumerate(post_RADAR_data['Student']):\n",
    "    if(text.count('\\n') > 3 and text.count('\\n') < 5):\n",
    "        print(index, text)"
   ]
  },
  {
   "cell_type": "markdown",
   "metadata": {},
   "source": [
    "#### Making DF for Text Length Exploration"
   ]
  },
  {
   "cell_type": "code",
   "execution_count": 8,
   "metadata": {},
   "outputs": [
    {
     "data": {
      "text/html": [
       "<div>\n",
       "<style scoped>\n",
       "    .dataframe tbody tr th:only-of-type {\n",
       "        vertical-align: middle;\n",
       "    }\n",
       "\n",
       "    .dataframe tbody tr th {\n",
       "        vertical-align: top;\n",
       "    }\n",
       "\n",
       "    .dataframe thead th {\n",
       "        text-align: right;\n",
       "    }\n",
       "</style>\n",
       "<table border=\"1\" class=\"dataframe\">\n",
       "  <thead>\n",
       "    <tr style=\"text-align: right;\">\n",
       "      <th></th>\n",
       "      <th>id</th>\n",
       "      <th>File</th>\n",
       "      <th>Topic</th>\n",
       "      <th>Student</th>\n",
       "      <th>Student_Reformatted</th>\n",
       "      <th>Grammarly_Score</th>\n",
       "      <th>STUD_Grammarly_Red</th>\n",
       "      <th>STUD_Grammarly_All</th>\n",
       "      <th>ChatGPT-3</th>\n",
       "      <th>ChatGPT-4</th>\n",
       "      <th>...</th>\n",
       "      <th>STUD_REFORMATTED</th>\n",
       "      <th>STUD_RED_RADAR</th>\n",
       "      <th>STUD_ALL_RADAR</th>\n",
       "      <th>GPT3_RADAR</th>\n",
       "      <th>GPT4_RADAR</th>\n",
       "      <th>GPT4_Quillbot_RADAR</th>\n",
       "      <th>GPT4_Grammarly_RADAR</th>\n",
       "      <th>GPT4_WordAI_RADAR</th>\n",
       "      <th>GPT4_Paraphrasing_IO_RAW_RADAR</th>\n",
       "      <th>GPT4_Paraphrasing_IO_EDITED_RADAR</th>\n",
       "    </tr>\n",
       "  </thead>\n",
       "  <tbody>\n",
       "    <tr>\n",
       "      <th>0</th>\n",
       "      <td>0</td>\n",
       "      <td>essay01.txt</td>\n",
       "      <td>Should students be taught to compete or to coo...</td>\n",
       "      <td>It is always said that competition can effecti...</td>\n",
       "      <td>It is always said that competition can effecti...</td>\n",
       "      <td>75</td>\n",
       "      <td>It is always said that competition can effecti...</td>\n",
       "      <td>It is always said that competition can effecti...</td>\n",
       "      <td>Education is not only about acquiring knowledg...</td>\n",
       "      <td>Title: Fostering Cooperation and Competition i...</td>\n",
       "      <td>...</td>\n",
       "      <td>0.519651</td>\n",
       "      <td>0.712787</td>\n",
       "      <td>0.704968</td>\n",
       "      <td>0.986301</td>\n",
       "      <td>0.974493</td>\n",
       "      <td>0.975968</td>\n",
       "      <td>0.963674</td>\n",
       "      <td>0.843616</td>\n",
       "      <td>0.989108</td>\n",
       "      <td>0.983982</td>\n",
       "    </tr>\n",
       "  </tbody>\n",
       "</table>\n",
       "<p>1 rows × 32 columns</p>\n",
       "</div>"
      ],
      "text/plain": [
       "   id         File                                              Topic  \\\n",
       "0   0  essay01.txt  Should students be taught to compete or to coo...   \n",
       "\n",
       "                                             Student  \\\n",
       "0  It is always said that competition can effecti...   \n",
       "\n",
       "                                 Student_Reformatted  Grammarly_Score  \\\n",
       "0  It is always said that competition can effecti...               75   \n",
       "\n",
       "                                  STUD_Grammarly_Red  \\\n",
       "0  It is always said that competition can effecti...   \n",
       "\n",
       "                                  STUD_Grammarly_All  \\\n",
       "0  It is always said that competition can effecti...   \n",
       "\n",
       "                                           ChatGPT-3  \\\n",
       "0  Education is not only about acquiring knowledg...   \n",
       "\n",
       "                                           ChatGPT-4  ... STUD_REFORMATTED  \\\n",
       "0  Title: Fostering Cooperation and Competition i...  ...         0.519651   \n",
       "\n",
       "  STUD_RED_RADAR STUD_ALL_RADAR GPT3_RADAR GPT4_RADAR  GPT4_Quillbot_RADAR  \\\n",
       "0       0.712787       0.704968   0.986301   0.974493             0.975968   \n",
       "\n",
       "   GPT4_Grammarly_RADAR  GPT4_WordAI_RADAR  GPT4_Paraphrasing_IO_RAW_RADAR  \\\n",
       "0              0.963674           0.843616                        0.989108   \n",
       "\n",
       "   GPT4_Paraphrasing_IO_EDITED_RADAR  \n",
       "0                           0.983982  \n",
       "\n",
       "[1 rows x 32 columns]"
      ]
     },
     "execution_count": 8,
     "metadata": {},
     "output_type": "execute_result"
    }
   ],
   "source": [
    "post_RADAR_data.head(1)"
   ]
  },
  {
   "cell_type": "code",
   "execution_count": 9,
   "metadata": {},
   "outputs": [],
   "source": [
    "text_length_data = []\n",
    "for text_index, text in enumerate(post_RADAR_data['Student']):\n",
    "    text = text.strip('\\n')\n",
    "    paragraphs = text.split('\\n')\n",
    "    curr = \"\"\n",
    "    for para_index, para in enumerate(paragraphs):\n",
    "        curr = curr + '\\n' + para\n",
    "        text_length_data.append(\n",
    "            {\n",
    "                'text_id': text_index,\n",
    "                'pre_processed_text' : curr.strip('\\n'),\n",
    "                'paragraph_id' : para_index,\n",
    "                'word_count' : len(re.findall(r'\\b\\w+\\b', curr)),\n",
    "            }\n",
    "        )\n",
    "text_length_data = pd.DataFrame(text_length_data)\n"
   ]
  },
  {
   "cell_type": "code",
   "execution_count": 10,
   "metadata": {},
   "outputs": [
    {
     "data": {
      "text/html": [
       "<div>\n",
       "<style scoped>\n",
       "    .dataframe tbody tr th:only-of-type {\n",
       "        vertical-align: middle;\n",
       "    }\n",
       "\n",
       "    .dataframe tbody tr th {\n",
       "        vertical-align: top;\n",
       "    }\n",
       "\n",
       "    .dataframe thead th {\n",
       "        text-align: right;\n",
       "    }\n",
       "</style>\n",
       "<table border=\"1\" class=\"dataframe\">\n",
       "  <thead>\n",
       "    <tr style=\"text-align: right;\">\n",
       "      <th></th>\n",
       "      <th>text_id</th>\n",
       "      <th>pre_processed_text</th>\n",
       "      <th>paragraph_id</th>\n",
       "      <th>word_count</th>\n",
       "    </tr>\n",
       "  </thead>\n",
       "  <tbody>\n",
       "    <tr>\n",
       "      <th>0</th>\n",
       "      <td>0</td>\n",
       "      <td>It is always said that competition can effecti...</td>\n",
       "      <td>0</td>\n",
       "      <td>84</td>\n",
       "    </tr>\n",
       "  </tbody>\n",
       "</table>\n",
       "</div>"
      ],
      "text/plain": [
       "   text_id                                 pre_processed_text  paragraph_id  \\\n",
       "0        0  It is always said that competition can effecti...             0   \n",
       "\n",
       "   word_count  \n",
       "0          84  "
      ]
     },
     "execution_count": 10,
     "metadata": {},
     "output_type": "execute_result"
    }
   ],
   "source": [
    "text_length_data.head(1)"
   ]
  },
  {
   "cell_type": "markdown",
   "metadata": {},
   "source": [
    "#### Getting RADAR Outputs"
   ]
  },
  {
   "cell_type": "code",
   "execution_count": 11,
   "metadata": {},
   "outputs": [
    {
     "ename": "KeyboardInterrupt",
     "evalue": "",
     "output_type": "error",
     "traceback": [
      "\u001b[0;31m---------------------------------------------------------------------------\u001b[0m",
      "\u001b[0;31mKeyboardInterrupt\u001b[0m                         Traceback (most recent call last)",
      "\u001b[0;32m<ipython-input-11-41490fb41478>\u001b[0m in \u001b[0;36m<module>\u001b[0;34m\u001b[0m\n\u001b[0;32m----> 1\u001b[0;31m \u001b[0mradarOutputs\u001b[0m \u001b[0;34m=\u001b[0m \u001b[0;34m[\u001b[0m\u001b[0mgetRADARoutput\u001b[0m\u001b[0;34m(\u001b[0m\u001b[0mtext\u001b[0m\u001b[0;34m)\u001b[0m \u001b[0;32mfor\u001b[0m \u001b[0mtext\u001b[0m \u001b[0;32min\u001b[0m \u001b[0mtext_length_data\u001b[0m\u001b[0;34m[\u001b[0m\u001b[0;34m'pre_processed_text'\u001b[0m\u001b[0;34m]\u001b[0m\u001b[0;34m]\u001b[0m\u001b[0;34m\u001b[0m\u001b[0;34m\u001b[0m\u001b[0m\n\u001b[0m",
      "\u001b[0;32m<ipython-input-11-41490fb41478>\u001b[0m in \u001b[0;36m<listcomp>\u001b[0;34m(.0)\u001b[0m\n\u001b[0;32m----> 1\u001b[0;31m \u001b[0mradarOutputs\u001b[0m \u001b[0;34m=\u001b[0m \u001b[0;34m[\u001b[0m\u001b[0mgetRADARoutput\u001b[0m\u001b[0;34m(\u001b[0m\u001b[0mtext\u001b[0m\u001b[0;34m)\u001b[0m \u001b[0;32mfor\u001b[0m \u001b[0mtext\u001b[0m \u001b[0;32min\u001b[0m \u001b[0mtext_length_data\u001b[0m\u001b[0;34m[\u001b[0m\u001b[0;34m'pre_processed_text'\u001b[0m\u001b[0;34m]\u001b[0m\u001b[0;34m]\u001b[0m\u001b[0;34m\u001b[0m\u001b[0;34m\u001b[0m\u001b[0m\n\u001b[0m",
      "\u001b[0;32m~/TOPICS/RADAR/RADAR_set_up.py\u001b[0m in \u001b[0;36mgetRADARoutput\u001b[0;34m(input)\u001b[0m\n\u001b[1;32m     18\u001b[0m         \u001b[0minputs\u001b[0m \u001b[0;34m=\u001b[0m \u001b[0mtokenizer\u001b[0m\u001b[0;34m(\u001b[0m\u001b[0minput\u001b[0m\u001b[0;34m,\u001b[0m \u001b[0mpadding\u001b[0m\u001b[0;34m=\u001b[0m\u001b[0;32mTrue\u001b[0m\u001b[0;34m,\u001b[0m \u001b[0mtruncation\u001b[0m\u001b[0;34m=\u001b[0m\u001b[0;32mTrue\u001b[0m\u001b[0;34m,\u001b[0m \u001b[0mmax_length\u001b[0m\u001b[0;34m=\u001b[0m\u001b[0;36m512\u001b[0m\u001b[0;34m,\u001b[0m \u001b[0mreturn_tensors\u001b[0m\u001b[0;34m=\u001b[0m\u001b[0;34m\"pt\"\u001b[0m\u001b[0;34m)\u001b[0m\u001b[0;34m\u001b[0m\u001b[0;34m\u001b[0m\u001b[0m\n\u001b[1;32m     19\u001b[0m         \u001b[0minputs\u001b[0m \u001b[0;34m=\u001b[0m \u001b[0;34m{\u001b[0m\u001b[0mk\u001b[0m\u001b[0;34m:\u001b[0m\u001b[0mv\u001b[0m\u001b[0;34m.\u001b[0m\u001b[0mto\u001b[0m\u001b[0;34m(\u001b[0m\u001b[0mdevice\u001b[0m\u001b[0;34m)\u001b[0m \u001b[0;32mfor\u001b[0m \u001b[0mk\u001b[0m\u001b[0;34m,\u001b[0m\u001b[0mv\u001b[0m \u001b[0;32min\u001b[0m \u001b[0minputs\u001b[0m\u001b[0;34m.\u001b[0m\u001b[0mitems\u001b[0m\u001b[0;34m(\u001b[0m\u001b[0;34m)\u001b[0m\u001b[0;34m}\u001b[0m\u001b[0;34m\u001b[0m\u001b[0;34m\u001b[0m\u001b[0m\n\u001b[0;32m---> 20\u001b[0;31m         \u001b[0moutput_probs\u001b[0m \u001b[0;34m=\u001b[0m \u001b[0mF\u001b[0m\u001b[0;34m.\u001b[0m\u001b[0mlog_softmax\u001b[0m\u001b[0;34m(\u001b[0m\u001b[0mdetector\u001b[0m\u001b[0;34m(\u001b[0m\u001b[0;34m**\u001b[0m\u001b[0minputs\u001b[0m\u001b[0;34m)\u001b[0m\u001b[0;34m.\u001b[0m\u001b[0mlogits\u001b[0m\u001b[0;34m,\u001b[0m\u001b[0;34m-\u001b[0m\u001b[0;36m1\u001b[0m\u001b[0;34m)\u001b[0m\u001b[0;34m[\u001b[0m\u001b[0;34m:\u001b[0m\u001b[0;34m,\u001b[0m\u001b[0;36m0\u001b[0m\u001b[0;34m]\u001b[0m\u001b[0;34m.\u001b[0m\u001b[0mexp\u001b[0m\u001b[0;34m(\u001b[0m\u001b[0;34m)\u001b[0m\u001b[0;34m.\u001b[0m\u001b[0mtolist\u001b[0m\u001b[0;34m(\u001b[0m\u001b[0;34m)\u001b[0m\u001b[0;34m\u001b[0m\u001b[0;34m\u001b[0m\u001b[0m\n\u001b[0m\u001b[1;32m     21\u001b[0m         \u001b[0;32mreturn\u001b[0m \u001b[0moutput_probs\u001b[0m\u001b[0;34m\u001b[0m\u001b[0;34m\u001b[0m\u001b[0m\n",
      "\u001b[0;32m~/miniconda3/envs/radar_env/lib/python3.7/site-packages/torch/nn/modules/module.py\u001b[0m in \u001b[0;36m_call_impl\u001b[0;34m(self, *input, **kwargs)\u001b[0m\n\u001b[1;32m   1128\u001b[0m         if not (self._backward_hooks or self._forward_hooks or self._forward_pre_hooks or _global_backward_hooks\n\u001b[1;32m   1129\u001b[0m                 or _global_forward_hooks or _global_forward_pre_hooks):\n\u001b[0;32m-> 1130\u001b[0;31m             \u001b[0;32mreturn\u001b[0m \u001b[0mforward_call\u001b[0m\u001b[0;34m(\u001b[0m\u001b[0;34m*\u001b[0m\u001b[0minput\u001b[0m\u001b[0;34m,\u001b[0m \u001b[0;34m**\u001b[0m\u001b[0mkwargs\u001b[0m\u001b[0;34m)\u001b[0m\u001b[0;34m\u001b[0m\u001b[0;34m\u001b[0m\u001b[0m\n\u001b[0m\u001b[1;32m   1131\u001b[0m         \u001b[0;31m# Do not call functions when jit is used\u001b[0m\u001b[0;34m\u001b[0m\u001b[0;34m\u001b[0m\u001b[0;34m\u001b[0m\u001b[0m\n\u001b[1;32m   1132\u001b[0m         \u001b[0mfull_backward_hooks\u001b[0m\u001b[0;34m,\u001b[0m \u001b[0mnon_full_backward_hooks\u001b[0m \u001b[0;34m=\u001b[0m \u001b[0;34m[\u001b[0m\u001b[0;34m]\u001b[0m\u001b[0;34m,\u001b[0m \u001b[0;34m[\u001b[0m\u001b[0;34m]\u001b[0m\u001b[0;34m\u001b[0m\u001b[0;34m\u001b[0m\u001b[0m\n",
      "\u001b[0;32m~/miniconda3/envs/radar_env/lib/python3.7/site-packages/transformers/models/roberta/modeling_roberta.py\u001b[0m in \u001b[0;36mforward\u001b[0;34m(self, input_ids, attention_mask, token_type_ids, position_ids, head_mask, inputs_embeds, labels, output_attentions, output_hidden_states, return_dict)\u001b[0m\n\u001b[1;32m   1223\u001b[0m             \u001b[0moutput_attentions\u001b[0m\u001b[0;34m=\u001b[0m\u001b[0moutput_attentions\u001b[0m\u001b[0;34m,\u001b[0m\u001b[0;34m\u001b[0m\u001b[0;34m\u001b[0m\u001b[0m\n\u001b[1;32m   1224\u001b[0m             \u001b[0moutput_hidden_states\u001b[0m\u001b[0;34m=\u001b[0m\u001b[0moutput_hidden_states\u001b[0m\u001b[0;34m,\u001b[0m\u001b[0;34m\u001b[0m\u001b[0;34m\u001b[0m\u001b[0m\n\u001b[0;32m-> 1225\u001b[0;31m             \u001b[0mreturn_dict\u001b[0m\u001b[0;34m=\u001b[0m\u001b[0mreturn_dict\u001b[0m\u001b[0;34m,\u001b[0m\u001b[0;34m\u001b[0m\u001b[0;34m\u001b[0m\u001b[0m\n\u001b[0m\u001b[1;32m   1226\u001b[0m         )\n\u001b[1;32m   1227\u001b[0m         \u001b[0msequence_output\u001b[0m \u001b[0;34m=\u001b[0m \u001b[0moutputs\u001b[0m\u001b[0;34m[\u001b[0m\u001b[0;36m0\u001b[0m\u001b[0;34m]\u001b[0m\u001b[0;34m\u001b[0m\u001b[0;34m\u001b[0m\u001b[0m\n",
      "\u001b[0;32m~/miniconda3/envs/radar_env/lib/python3.7/site-packages/torch/nn/modules/module.py\u001b[0m in \u001b[0;36m_call_impl\u001b[0;34m(self, *input, **kwargs)\u001b[0m\n\u001b[1;32m   1128\u001b[0m         if not (self._backward_hooks or self._forward_hooks or self._forward_pre_hooks or _global_backward_hooks\n\u001b[1;32m   1129\u001b[0m                 or _global_forward_hooks or _global_forward_pre_hooks):\n\u001b[0;32m-> 1130\u001b[0;31m             \u001b[0;32mreturn\u001b[0m \u001b[0mforward_call\u001b[0m\u001b[0;34m(\u001b[0m\u001b[0;34m*\u001b[0m\u001b[0minput\u001b[0m\u001b[0;34m,\u001b[0m \u001b[0;34m**\u001b[0m\u001b[0mkwargs\u001b[0m\u001b[0;34m)\u001b[0m\u001b[0;34m\u001b[0m\u001b[0;34m\u001b[0m\u001b[0m\n\u001b[0m\u001b[1;32m   1131\u001b[0m         \u001b[0;31m# Do not call functions when jit is used\u001b[0m\u001b[0;34m\u001b[0m\u001b[0;34m\u001b[0m\u001b[0;34m\u001b[0m\u001b[0m\n\u001b[1;32m   1132\u001b[0m         \u001b[0mfull_backward_hooks\u001b[0m\u001b[0;34m,\u001b[0m \u001b[0mnon_full_backward_hooks\u001b[0m \u001b[0;34m=\u001b[0m \u001b[0;34m[\u001b[0m\u001b[0;34m]\u001b[0m\u001b[0;34m,\u001b[0m \u001b[0;34m[\u001b[0m\u001b[0;34m]\u001b[0m\u001b[0;34m\u001b[0m\u001b[0;34m\u001b[0m\u001b[0m\n",
      "\u001b[0;32m~/miniconda3/envs/radar_env/lib/python3.7/site-packages/transformers/models/roberta/modeling_roberta.py\u001b[0m in \u001b[0;36mforward\u001b[0;34m(self, input_ids, attention_mask, token_type_ids, position_ids, head_mask, inputs_embeds, encoder_hidden_states, encoder_attention_mask, past_key_values, use_cache, output_attentions, output_hidden_states, return_dict)\u001b[0m\n\u001b[1;32m    860\u001b[0m             \u001b[0moutput_attentions\u001b[0m\u001b[0;34m=\u001b[0m\u001b[0moutput_attentions\u001b[0m\u001b[0;34m,\u001b[0m\u001b[0;34m\u001b[0m\u001b[0;34m\u001b[0m\u001b[0m\n\u001b[1;32m    861\u001b[0m             \u001b[0moutput_hidden_states\u001b[0m\u001b[0;34m=\u001b[0m\u001b[0moutput_hidden_states\u001b[0m\u001b[0;34m,\u001b[0m\u001b[0;34m\u001b[0m\u001b[0;34m\u001b[0m\u001b[0m\n\u001b[0;32m--> 862\u001b[0;31m             \u001b[0mreturn_dict\u001b[0m\u001b[0;34m=\u001b[0m\u001b[0mreturn_dict\u001b[0m\u001b[0;34m,\u001b[0m\u001b[0;34m\u001b[0m\u001b[0;34m\u001b[0m\u001b[0m\n\u001b[0m\u001b[1;32m    863\u001b[0m         )\n\u001b[1;32m    864\u001b[0m         \u001b[0msequence_output\u001b[0m \u001b[0;34m=\u001b[0m \u001b[0mencoder_outputs\u001b[0m\u001b[0;34m[\u001b[0m\u001b[0;36m0\u001b[0m\u001b[0;34m]\u001b[0m\u001b[0;34m\u001b[0m\u001b[0;34m\u001b[0m\u001b[0m\n",
      "\u001b[0;32m~/miniconda3/envs/radar_env/lib/python3.7/site-packages/torch/nn/modules/module.py\u001b[0m in \u001b[0;36m_call_impl\u001b[0;34m(self, *input, **kwargs)\u001b[0m\n\u001b[1;32m   1128\u001b[0m         if not (self._backward_hooks or self._forward_hooks or self._forward_pre_hooks or _global_backward_hooks\n\u001b[1;32m   1129\u001b[0m                 or _global_forward_hooks or _global_forward_pre_hooks):\n\u001b[0;32m-> 1130\u001b[0;31m             \u001b[0;32mreturn\u001b[0m \u001b[0mforward_call\u001b[0m\u001b[0;34m(\u001b[0m\u001b[0;34m*\u001b[0m\u001b[0minput\u001b[0m\u001b[0;34m,\u001b[0m \u001b[0;34m**\u001b[0m\u001b[0mkwargs\u001b[0m\u001b[0;34m)\u001b[0m\u001b[0;34m\u001b[0m\u001b[0;34m\u001b[0m\u001b[0m\n\u001b[0m\u001b[1;32m   1131\u001b[0m         \u001b[0;31m# Do not call functions when jit is used\u001b[0m\u001b[0;34m\u001b[0m\u001b[0;34m\u001b[0m\u001b[0;34m\u001b[0m\u001b[0m\n\u001b[1;32m   1132\u001b[0m         \u001b[0mfull_backward_hooks\u001b[0m\u001b[0;34m,\u001b[0m \u001b[0mnon_full_backward_hooks\u001b[0m \u001b[0;34m=\u001b[0m \u001b[0;34m[\u001b[0m\u001b[0;34m]\u001b[0m\u001b[0;34m,\u001b[0m \u001b[0;34m[\u001b[0m\u001b[0;34m]\u001b[0m\u001b[0;34m\u001b[0m\u001b[0;34m\u001b[0m\u001b[0m\n",
      "\u001b[0;32m~/miniconda3/envs/radar_env/lib/python3.7/site-packages/transformers/models/roberta/modeling_roberta.py\u001b[0m in \u001b[0;36mforward\u001b[0;34m(self, hidden_states, attention_mask, head_mask, encoder_hidden_states, encoder_attention_mask, past_key_values, use_cache, output_attentions, output_hidden_states, return_dict)\u001b[0m\n\u001b[1;32m    532\u001b[0m                     \u001b[0mencoder_attention_mask\u001b[0m\u001b[0;34m,\u001b[0m\u001b[0;34m\u001b[0m\u001b[0;34m\u001b[0m\u001b[0m\n\u001b[1;32m    533\u001b[0m                     \u001b[0mpast_key_value\u001b[0m\u001b[0;34m,\u001b[0m\u001b[0;34m\u001b[0m\u001b[0;34m\u001b[0m\u001b[0m\n\u001b[0;32m--> 534\u001b[0;31m                     \u001b[0moutput_attentions\u001b[0m\u001b[0;34m,\u001b[0m\u001b[0;34m\u001b[0m\u001b[0;34m\u001b[0m\u001b[0m\n\u001b[0m\u001b[1;32m    535\u001b[0m                 )\n\u001b[1;32m    536\u001b[0m \u001b[0;34m\u001b[0m\u001b[0m\n",
      "\u001b[0;32m~/miniconda3/envs/radar_env/lib/python3.7/site-packages/torch/nn/modules/module.py\u001b[0m in \u001b[0;36m_call_impl\u001b[0;34m(self, *input, **kwargs)\u001b[0m\n\u001b[1;32m   1128\u001b[0m         if not (self._backward_hooks or self._forward_hooks or self._forward_pre_hooks or _global_backward_hooks\n\u001b[1;32m   1129\u001b[0m                 or _global_forward_hooks or _global_forward_pre_hooks):\n\u001b[0;32m-> 1130\u001b[0;31m             \u001b[0;32mreturn\u001b[0m \u001b[0mforward_call\u001b[0m\u001b[0;34m(\u001b[0m\u001b[0;34m*\u001b[0m\u001b[0minput\u001b[0m\u001b[0;34m,\u001b[0m \u001b[0;34m**\u001b[0m\u001b[0mkwargs\u001b[0m\u001b[0;34m)\u001b[0m\u001b[0;34m\u001b[0m\u001b[0;34m\u001b[0m\u001b[0m\n\u001b[0m\u001b[1;32m   1131\u001b[0m         \u001b[0;31m# Do not call functions when jit is used\u001b[0m\u001b[0;34m\u001b[0m\u001b[0;34m\u001b[0m\u001b[0;34m\u001b[0m\u001b[0m\n\u001b[1;32m   1132\u001b[0m         \u001b[0mfull_backward_hooks\u001b[0m\u001b[0;34m,\u001b[0m \u001b[0mnon_full_backward_hooks\u001b[0m \u001b[0;34m=\u001b[0m \u001b[0;34m[\u001b[0m\u001b[0;34m]\u001b[0m\u001b[0;34m,\u001b[0m \u001b[0;34m[\u001b[0m\u001b[0;34m]\u001b[0m\u001b[0;34m\u001b[0m\u001b[0;34m\u001b[0m\u001b[0m\n",
      "\u001b[0;32m~/miniconda3/envs/radar_env/lib/python3.7/site-packages/transformers/models/roberta/modeling_roberta.py\u001b[0m in \u001b[0;36mforward\u001b[0;34m(self, hidden_states, attention_mask, head_mask, encoder_hidden_states, encoder_attention_mask, past_key_value, output_attentions)\u001b[0m\n\u001b[1;32m    414\u001b[0m             \u001b[0mhead_mask\u001b[0m\u001b[0;34m,\u001b[0m\u001b[0;34m\u001b[0m\u001b[0;34m\u001b[0m\u001b[0m\n\u001b[1;32m    415\u001b[0m             \u001b[0moutput_attentions\u001b[0m\u001b[0;34m=\u001b[0m\u001b[0moutput_attentions\u001b[0m\u001b[0;34m,\u001b[0m\u001b[0;34m\u001b[0m\u001b[0;34m\u001b[0m\u001b[0m\n\u001b[0;32m--> 416\u001b[0;31m             \u001b[0mpast_key_value\u001b[0m\u001b[0;34m=\u001b[0m\u001b[0mself_attn_past_key_value\u001b[0m\u001b[0;34m,\u001b[0m\u001b[0;34m\u001b[0m\u001b[0;34m\u001b[0m\u001b[0m\n\u001b[0m\u001b[1;32m    417\u001b[0m         )\n\u001b[1;32m    418\u001b[0m         \u001b[0mattention_output\u001b[0m \u001b[0;34m=\u001b[0m \u001b[0mself_attention_outputs\u001b[0m\u001b[0;34m[\u001b[0m\u001b[0;36m0\u001b[0m\u001b[0;34m]\u001b[0m\u001b[0;34m\u001b[0m\u001b[0;34m\u001b[0m\u001b[0m\n",
      "\u001b[0;32m~/miniconda3/envs/radar_env/lib/python3.7/site-packages/torch/nn/modules/module.py\u001b[0m in \u001b[0;36m_call_impl\u001b[0;34m(self, *input, **kwargs)\u001b[0m\n\u001b[1;32m   1128\u001b[0m         if not (self._backward_hooks or self._forward_hooks or self._forward_pre_hooks or _global_backward_hooks\n\u001b[1;32m   1129\u001b[0m                 or _global_forward_hooks or _global_forward_pre_hooks):\n\u001b[0;32m-> 1130\u001b[0;31m             \u001b[0;32mreturn\u001b[0m \u001b[0mforward_call\u001b[0m\u001b[0;34m(\u001b[0m\u001b[0;34m*\u001b[0m\u001b[0minput\u001b[0m\u001b[0;34m,\u001b[0m \u001b[0;34m**\u001b[0m\u001b[0mkwargs\u001b[0m\u001b[0;34m)\u001b[0m\u001b[0;34m\u001b[0m\u001b[0;34m\u001b[0m\u001b[0m\n\u001b[0m\u001b[1;32m   1131\u001b[0m         \u001b[0;31m# Do not call functions when jit is used\u001b[0m\u001b[0;34m\u001b[0m\u001b[0;34m\u001b[0m\u001b[0;34m\u001b[0m\u001b[0m\n\u001b[1;32m   1132\u001b[0m         \u001b[0mfull_backward_hooks\u001b[0m\u001b[0;34m,\u001b[0m \u001b[0mnon_full_backward_hooks\u001b[0m \u001b[0;34m=\u001b[0m \u001b[0;34m[\u001b[0m\u001b[0;34m]\u001b[0m\u001b[0;34m,\u001b[0m \u001b[0;34m[\u001b[0m\u001b[0;34m]\u001b[0m\u001b[0;34m\u001b[0m\u001b[0;34m\u001b[0m\u001b[0m\n",
      "\u001b[0;32m~/miniconda3/envs/radar_env/lib/python3.7/site-packages/transformers/models/roberta/modeling_roberta.py\u001b[0m in \u001b[0;36mforward\u001b[0;34m(self, hidden_states, attention_mask, head_mask, encoder_hidden_states, encoder_attention_mask, past_key_value, output_attentions)\u001b[0m\n\u001b[1;32m    343\u001b[0m             \u001b[0mencoder_attention_mask\u001b[0m\u001b[0;34m,\u001b[0m\u001b[0;34m\u001b[0m\u001b[0;34m\u001b[0m\u001b[0m\n\u001b[1;32m    344\u001b[0m             \u001b[0mpast_key_value\u001b[0m\u001b[0;34m,\u001b[0m\u001b[0;34m\u001b[0m\u001b[0;34m\u001b[0m\u001b[0m\n\u001b[0;32m--> 345\u001b[0;31m             \u001b[0moutput_attentions\u001b[0m\u001b[0;34m,\u001b[0m\u001b[0;34m\u001b[0m\u001b[0;34m\u001b[0m\u001b[0m\n\u001b[0m\u001b[1;32m    346\u001b[0m         )\n\u001b[1;32m    347\u001b[0m         \u001b[0mattention_output\u001b[0m \u001b[0;34m=\u001b[0m \u001b[0mself\u001b[0m\u001b[0;34m.\u001b[0m\u001b[0moutput\u001b[0m\u001b[0;34m(\u001b[0m\u001b[0mself_outputs\u001b[0m\u001b[0;34m[\u001b[0m\u001b[0;36m0\u001b[0m\u001b[0;34m]\u001b[0m\u001b[0;34m,\u001b[0m \u001b[0mhidden_states\u001b[0m\u001b[0;34m)\u001b[0m\u001b[0;34m\u001b[0m\u001b[0;34m\u001b[0m\u001b[0m\n",
      "\u001b[0;32m~/miniconda3/envs/radar_env/lib/python3.7/site-packages/torch/nn/modules/module.py\u001b[0m in \u001b[0;36m_call_impl\u001b[0;34m(self, *input, **kwargs)\u001b[0m\n\u001b[1;32m   1128\u001b[0m         if not (self._backward_hooks or self._forward_hooks or self._forward_pre_hooks or _global_backward_hooks\n\u001b[1;32m   1129\u001b[0m                 or _global_forward_hooks or _global_forward_pre_hooks):\n\u001b[0;32m-> 1130\u001b[0;31m             \u001b[0;32mreturn\u001b[0m \u001b[0mforward_call\u001b[0m\u001b[0;34m(\u001b[0m\u001b[0;34m*\u001b[0m\u001b[0minput\u001b[0m\u001b[0;34m,\u001b[0m \u001b[0;34m**\u001b[0m\u001b[0mkwargs\u001b[0m\u001b[0;34m)\u001b[0m\u001b[0;34m\u001b[0m\u001b[0;34m\u001b[0m\u001b[0m\n\u001b[0m\u001b[1;32m   1131\u001b[0m         \u001b[0;31m# Do not call functions when jit is used\u001b[0m\u001b[0;34m\u001b[0m\u001b[0;34m\u001b[0m\u001b[0;34m\u001b[0m\u001b[0m\n\u001b[1;32m   1132\u001b[0m         \u001b[0mfull_backward_hooks\u001b[0m\u001b[0;34m,\u001b[0m \u001b[0mnon_full_backward_hooks\u001b[0m \u001b[0;34m=\u001b[0m \u001b[0;34m[\u001b[0m\u001b[0;34m]\u001b[0m\u001b[0;34m,\u001b[0m \u001b[0;34m[\u001b[0m\u001b[0;34m]\u001b[0m\u001b[0;34m\u001b[0m\u001b[0;34m\u001b[0m\u001b[0m\n",
      "\u001b[0;32m~/miniconda3/envs/radar_env/lib/python3.7/site-packages/transformers/models/roberta/modeling_roberta.py\u001b[0m in \u001b[0;36mforward\u001b[0;34m(self, hidden_states, attention_mask, head_mask, encoder_hidden_states, encoder_attention_mask, past_key_value, output_attentions)\u001b[0m\n\u001b[1;32m    215\u001b[0m             \u001b[0mvalue_layer\u001b[0m \u001b[0;34m=\u001b[0m \u001b[0mtorch\u001b[0m\u001b[0;34m.\u001b[0m\u001b[0mcat\u001b[0m\u001b[0;34m(\u001b[0m\u001b[0;34m[\u001b[0m\u001b[0mpast_key_value\u001b[0m\u001b[0;34m[\u001b[0m\u001b[0;36m1\u001b[0m\u001b[0;34m]\u001b[0m\u001b[0;34m,\u001b[0m \u001b[0mvalue_layer\u001b[0m\u001b[0;34m]\u001b[0m\u001b[0;34m,\u001b[0m \u001b[0mdim\u001b[0m\u001b[0;34m=\u001b[0m\u001b[0;36m2\u001b[0m\u001b[0;34m)\u001b[0m\u001b[0;34m\u001b[0m\u001b[0;34m\u001b[0m\u001b[0m\n\u001b[1;32m    216\u001b[0m         \u001b[0;32melse\u001b[0m\u001b[0;34m:\u001b[0m\u001b[0;34m\u001b[0m\u001b[0;34m\u001b[0m\u001b[0m\n\u001b[0;32m--> 217\u001b[0;31m             \u001b[0mkey_layer\u001b[0m \u001b[0;34m=\u001b[0m \u001b[0mself\u001b[0m\u001b[0;34m.\u001b[0m\u001b[0mtranspose_for_scores\u001b[0m\u001b[0;34m(\u001b[0m\u001b[0mself\u001b[0m\u001b[0;34m.\u001b[0m\u001b[0mkey\u001b[0m\u001b[0;34m(\u001b[0m\u001b[0mhidden_states\u001b[0m\u001b[0;34m)\u001b[0m\u001b[0;34m)\u001b[0m\u001b[0;34m\u001b[0m\u001b[0;34m\u001b[0m\u001b[0m\n\u001b[0m\u001b[1;32m    218\u001b[0m             \u001b[0mvalue_layer\u001b[0m \u001b[0;34m=\u001b[0m \u001b[0mself\u001b[0m\u001b[0;34m.\u001b[0m\u001b[0mtranspose_for_scores\u001b[0m\u001b[0;34m(\u001b[0m\u001b[0mself\u001b[0m\u001b[0;34m.\u001b[0m\u001b[0mvalue\u001b[0m\u001b[0;34m(\u001b[0m\u001b[0mhidden_states\u001b[0m\u001b[0;34m)\u001b[0m\u001b[0;34m)\u001b[0m\u001b[0;34m\u001b[0m\u001b[0;34m\u001b[0m\u001b[0m\n\u001b[1;32m    219\u001b[0m \u001b[0;34m\u001b[0m\u001b[0m\n",
      "\u001b[0;32m~/miniconda3/envs/radar_env/lib/python3.7/site-packages/torch/nn/modules/module.py\u001b[0m in \u001b[0;36m_call_impl\u001b[0;34m(self, *input, **kwargs)\u001b[0m\n\u001b[1;32m   1128\u001b[0m         if not (self._backward_hooks or self._forward_hooks or self._forward_pre_hooks or _global_backward_hooks\n\u001b[1;32m   1129\u001b[0m                 or _global_forward_hooks or _global_forward_pre_hooks):\n\u001b[0;32m-> 1130\u001b[0;31m             \u001b[0;32mreturn\u001b[0m \u001b[0mforward_call\u001b[0m\u001b[0;34m(\u001b[0m\u001b[0;34m*\u001b[0m\u001b[0minput\u001b[0m\u001b[0;34m,\u001b[0m \u001b[0;34m**\u001b[0m\u001b[0mkwargs\u001b[0m\u001b[0;34m)\u001b[0m\u001b[0;34m\u001b[0m\u001b[0;34m\u001b[0m\u001b[0m\n\u001b[0m\u001b[1;32m   1131\u001b[0m         \u001b[0;31m# Do not call functions when jit is used\u001b[0m\u001b[0;34m\u001b[0m\u001b[0;34m\u001b[0m\u001b[0;34m\u001b[0m\u001b[0m\n\u001b[1;32m   1132\u001b[0m         \u001b[0mfull_backward_hooks\u001b[0m\u001b[0;34m,\u001b[0m \u001b[0mnon_full_backward_hooks\u001b[0m \u001b[0;34m=\u001b[0m \u001b[0;34m[\u001b[0m\u001b[0;34m]\u001b[0m\u001b[0;34m,\u001b[0m \u001b[0;34m[\u001b[0m\u001b[0;34m]\u001b[0m\u001b[0;34m\u001b[0m\u001b[0;34m\u001b[0m\u001b[0m\n",
      "\u001b[0;32m~/miniconda3/envs/radar_env/lib/python3.7/site-packages/torch/nn/modules/linear.py\u001b[0m in \u001b[0;36mforward\u001b[0;34m(self, input)\u001b[0m\n\u001b[1;32m    112\u001b[0m \u001b[0;34m\u001b[0m\u001b[0m\n\u001b[1;32m    113\u001b[0m     \u001b[0;32mdef\u001b[0m \u001b[0mforward\u001b[0m\u001b[0;34m(\u001b[0m\u001b[0mself\u001b[0m\u001b[0;34m,\u001b[0m \u001b[0minput\u001b[0m\u001b[0;34m:\u001b[0m \u001b[0mTensor\u001b[0m\u001b[0;34m)\u001b[0m \u001b[0;34m->\u001b[0m \u001b[0mTensor\u001b[0m\u001b[0;34m:\u001b[0m\u001b[0;34m\u001b[0m\u001b[0;34m\u001b[0m\u001b[0m\n\u001b[0;32m--> 114\u001b[0;31m         \u001b[0;32mreturn\u001b[0m \u001b[0mF\u001b[0m\u001b[0;34m.\u001b[0m\u001b[0mlinear\u001b[0m\u001b[0;34m(\u001b[0m\u001b[0minput\u001b[0m\u001b[0;34m,\u001b[0m \u001b[0mself\u001b[0m\u001b[0;34m.\u001b[0m\u001b[0mweight\u001b[0m\u001b[0;34m,\u001b[0m \u001b[0mself\u001b[0m\u001b[0;34m.\u001b[0m\u001b[0mbias\u001b[0m\u001b[0;34m)\u001b[0m\u001b[0;34m\u001b[0m\u001b[0;34m\u001b[0m\u001b[0m\n\u001b[0m\u001b[1;32m    115\u001b[0m \u001b[0;34m\u001b[0m\u001b[0m\n\u001b[1;32m    116\u001b[0m     \u001b[0;32mdef\u001b[0m \u001b[0mextra_repr\u001b[0m\u001b[0;34m(\u001b[0m\u001b[0mself\u001b[0m\u001b[0;34m)\u001b[0m \u001b[0;34m->\u001b[0m \u001b[0mstr\u001b[0m\u001b[0;34m:\u001b[0m\u001b[0;34m\u001b[0m\u001b[0;34m\u001b[0m\u001b[0m\n",
      "\u001b[0;31mKeyboardInterrupt\u001b[0m: "
     ]
    }
   ],
   "source": [
    "radarOutputs = [getRADARoutput(text) for text in text_length_data['pre_processed_text']]"
   ]
  },
  {
   "cell_type": "code",
   "execution_count": null,
   "metadata": {},
   "outputs": [],
   "source": [
    "text_length_data['RADAR_outputs'] = radarOutputs"
   ]
  },
  {
   "cell_type": "code",
   "execution_count": null,
   "metadata": {},
   "outputs": [],
   "source": [
    "text_length_data.to_csv('topics-length-specific-RADAR.csv', index=False)"
   ]
  }
 ],
 "metadata": {
  "kernelspec": {
   "display_name": "radar_env",
   "language": "python",
   "name": "python3"
  },
  "language_info": {
   "codemirror_mode": {
    "name": "ipython",
    "version": 3
   },
   "file_extension": ".py",
   "mimetype": "text/x-python",
   "name": "python",
   "nbconvert_exporter": "python",
   "pygments_lexer": "ipython3",
   "version": "3.7.-1"
  }
 },
 "nbformat": 4,
 "nbformat_minor": 2
}
