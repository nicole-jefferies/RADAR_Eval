{
 "cells": [
  {
   "cell_type": "markdown",
   "metadata": {},
   "source": [
    "#### Import Required Modules"
   ]
  },
  {
   "cell_type": "code",
   "execution_count": 1,
   "metadata": {},
   "outputs": [],
   "source": [
    "# for data wrangling\n",
    "import pandas as pd\n",
    "from pandas import json_normalize\n",
    "\n",
    "# for stats\n",
    "import numpy as np\n",
    "import statistics\n",
    "import math\n",
    "from scipy.stats import pearsonr\n",
    "\n",
    "# for visualisations\n",
    "import matplotlib.pyplot as plt\n",
    "\n",
    "# for regex\n",
    "import re"
   ]
  },
  {
   "cell_type": "markdown",
   "metadata": {},
   "source": [
    "#### Setup RADAR ?"
   ]
  },
  {
   "cell_type": "code",
   "execution_count": 2,
   "metadata": {},
   "outputs": [
    {
     "name": "stderr",
     "output_type": "stream",
     "text": [
      "/home/nicole/miniconda3/envs/radar_env/lib/python3.7/site-packages/tqdm/auto.py:21: TqdmWarning: IProgress not found. Please update jupyter and ipywidgets. See https://ipywidgets.readthedocs.io/en/stable/user_install.html\n",
      "  from .autonotebook import tqdm as notebook_tqdm\n"
     ]
    },
    {
     "name": "stdout",
     "output_type": "stream",
     "text": [
      "detector and tokeniser successfully loaded\n"
     ]
    }
   ],
   "source": [
    "%run RADAR_set_up.py"
   ]
  },
  {
   "cell_type": "markdown",
   "metadata": {},
   "source": [
    "#### Load HC3 Data"
   ]
  },
  {
   "cell_type": "code",
   "execution_count": null,
   "metadata": {},
   "outputs": [],
   "source": [
    "HC3_Data = pd.read_json('all.jsonl', lines=True)"
   ]
  },
  {
   "cell_type": "code",
   "execution_count": null,
   "metadata": {},
   "outputs": [],
   "source": [
    "HC3_Data.head(2)"
   ]
  },
  {
   "cell_type": "markdown",
   "metadata": {},
   "source": [
    "#### Does removing new line characters affect RADAR output? Yes"
   ]
  },
  {
   "cell_type": "code",
   "execution_count": null,
   "metadata": {},
   "outputs": [],
   "source": [
    "originalString = HC3_Data['chatgpt_answers'][0][0]\n",
    "newLineCharsRemoved = ''.join(originalString.split('\\n'))\n",
    "\n",
    "print(\"RADAR output of original text\", getRADARoutput(originalString))\n",
    "print(\"RADAR output of stripped text\", getRADARoutput(newLineCharsRemoved))"
   ]
  },
  {
   "cell_type": "markdown",
   "metadata": {},
   "source": [
    "#### Calculating Number of Words in Texts"
   ]
  },
  {
   "cell_type": "code",
   "execution_count": null,
   "metadata": {},
   "outputs": [],
   "source": [
    "string =  \"This is a string with \\\"\\ 7 \\n words\"\n",
    "words = re.findall(r'\\b\\w+\\b', string)\n",
    "print(words)\n",
    "print(len(words))"
   ]
  },
  {
   "cell_type": "markdown",
   "metadata": {},
   "source": [
    "#### Number of Words in HC3 AI Texts"
   ]
  },
  {
   "cell_type": "code",
   "execution_count": null,
   "metadata": {},
   "outputs": [],
   "source": [
    "string = HC3_Data['chatgpt_answers'][0][0]\n",
    "words = re.findall(r'\\b\\w+\\b', string)\n",
    "print(words)\n",
    "print(len(words))"
   ]
  },
  {
   "cell_type": "code",
   "execution_count": null,
   "metadata": {},
   "outputs": [],
   "source": [
    "HC3_Data['chatgpt_wordcounts'] = np.nan"
   ]
  },
  {
   "cell_type": "code",
   "execution_count": null,
   "metadata": {},
   "outputs": [],
   "source": [
    "HC3_Data.head()"
   ]
  },
  {
   "cell_type": "code",
   "execution_count": null,
   "metadata": {},
   "outputs": [],
   "source": [
    "for i in range(len(HC3_Data['chatgpt_answers'])):\n",
    "    if len(HC3_Data['chatgpt_answers'][i]) != 0:\n",
    "        text = HC3_Data['chatgpt_answers'][i][0]\n",
    "        HC3_Data['chatgpt_wordcounts'][i] = len(re.findall(r'\\b\\w+\\b', text))"
   ]
  },
  {
   "cell_type": "code",
   "execution_count": null,
   "metadata": {},
   "outputs": [],
   "source": [
    "wordcounts = HC3_Data['chatgpt_wordcounts'].tolist()\n",
    "wordcounts = [x for x in wordcounts if not math.isnan(x)]"
   ]
  },
  {
   "cell_type": "code",
   "execution_count": null,
   "metadata": {},
   "outputs": [],
   "source": [
    "plt.hist(wordcounts, bins=100)"
   ]
  },
  {
   "cell_type": "code",
   "execution_count": null,
   "metadata": {},
   "outputs": [],
   "source": [
    "plt.boxplot(wordcounts)"
   ]
  },
  {
   "cell_type": "code",
   "execution_count": null,
   "metadata": {},
   "outputs": [],
   "source": [
    "HC3_Data = HC3_Data.sort_values(by='chatgpt_wordcounts', ascending=False)"
   ]
  },
  {
   "cell_type": "code",
   "execution_count": null,
   "metadata": {},
   "outputs": [],
   "source": [
    "HC3_Data.head(100)"
   ]
  },
  {
   "cell_type": "markdown",
   "metadata": {},
   "source": [
    "#### Kaggle Essay Data Test"
   ]
  },
  {
   "cell_type": "code",
   "execution_count": null,
   "metadata": {},
   "outputs": [],
   "source": [
    "test = pd.read_json('RADAR_processed_data.json', lines=False)"
   ]
  },
  {
   "cell_type": "code",
   "execution_count": null,
   "metadata": {},
   "outputs": [],
   "source": [
    "plt.hist(test['RADAR'], bins=5)\n",
    "plt.ylabel('human texts')\n",
    "plt.xlabel('RADAR score')\n",
    "plt.title('RADAR performance on 500 samples of Kaggle Essay Data')\n",
    "plt.show()"
   ]
  },
  {
   "cell_type": "code",
   "execution_count": null,
   "metadata": {},
   "outputs": [],
   "source": [
    "plt.boxplot(test['RADAR'])\n",
    "plt.ylabel('human texts')\n",
    "plt.xlabel('RADAR score')\n",
    "plt.title('RADAR performance on 500 samples of Kaggle Essay Data')\n",
    "plt.show()"
   ]
  },
  {
   "cell_type": "markdown",
   "metadata": {},
   "source": [
    "#### Main Experiment"
   ]
  },
  {
   "cell_type": "code",
   "execution_count": 3,
   "metadata": {},
   "outputs": [],
   "source": [
    "pre_RADAR_data = pd.read_csv('topics-pre-RADAR-data.csv')"
   ]
  },
  {
   "cell_type": "code",
   "execution_count": 4,
   "metadata": {},
   "outputs": [
    {
     "data": {
      "text/plain": [
       "Index(['id', 'File', 'Topic', 'Student', 'ChatGPT-3', 'ChatGPT-4',\n",
       "       'GPT-4_Paraphrasing.io', 'GPT-4_Paraphrasing.io_MANUALLYCORRECTED',\n",
       "       'GPT-4_Quillbot', 'GPT-4_Grammarly', 'GPT-4_WordAi', 'STUD_spacy',\n",
       "       'STUD_lemma', 'GPT3_spacy', 'GPT3_lemma', 'GPT4_spacy', 'GPT4_lemma',\n",
       "       'STUD_sent_count', 'GPT3_sent_count', 'GPT4_sent_count',\n",
       "       'STUD_word_count', 'GPT3_word_count', 'GPT4_word_count'],\n",
       "      dtype='object')"
      ]
     },
     "execution_count": 4,
     "metadata": {},
     "output_type": "execute_result"
    }
   ],
   "source": [
    "pre_RADAR_data.columns"
   ]
  },
  {
   "cell_type": "code",
   "execution_count": 5,
   "metadata": {},
   "outputs": [],
   "source": [
    "columns = {'Student' : 'STUD_RADAR',\n",
    "           'ChatGPT-3': 'GPT3_RADAR',\n",
    "           'ChatGPT-4': 'GPT4_RADAR',\n",
    "            'GPT-4_Quillbot': 'GPT4_Quillbot_RADAR',\n",
    "            'GPT-4_Grammarly': 'GPT4_Grammarly_RADAR',\n",
    "            'GPT-4_WordAi': 'GPT4_WordAI_RADAR',\n",
    "            'GPT-4_Paraphrasing.io': 'GPT4_Paraphrasing_IO_RAW_RADAR',\n",
    "            'GPT-4_Paraphrasing.io_MANUALLYCORRECTED': 'GPT4_Paraphrasing_IO_EDITED_RADAR'\n",
    "           }\n",
    "\n",
    "for outputColumn in columns.values():\n",
    "    pre_RADAR_data[outputColumn] = np.nan"
   ]
  },
  {
   "cell_type": "code",
   "execution_count": 6,
   "metadata": {},
   "outputs": [
    {
     "name": "stderr",
     "output_type": "stream",
     "text": [
      "/home/nicole/miniconda3/envs/radar_env/lib/python3.7/site-packages/ipykernel_launcher.py:5: SettingWithCopyWarning: \n",
      "A value is trying to be set on a copy of a slice from a DataFrame\n",
      "\n",
      "See the caveats in the documentation: https://pandas.pydata.org/pandas-docs/stable/user_guide/indexing.html#returning-a-view-versus-a-copy\n",
      "  \"\"\"\n"
     ]
    }
   ],
   "source": [
    "for inputColumn, outputColumn in columns.items():\n",
    "    for i in range(1):\n",
    "        text = pre_RADAR_data[inputColumn][i]\n",
    "        output = getRADARoutput(text)[0]\n",
    "        pre_RADAR_data[outputColumn][i] = output"
   ]
  },
  {
   "cell_type": "code",
   "execution_count": 7,
   "metadata": {},
   "outputs": [
    {
     "data": {
      "text/html": [
       "<div>\n",
       "<style scoped>\n",
       "    .dataframe tbody tr th:only-of-type {\n",
       "        vertical-align: middle;\n",
       "    }\n",
       "\n",
       "    .dataframe tbody tr th {\n",
       "        vertical-align: top;\n",
       "    }\n",
       "\n",
       "    .dataframe thead th {\n",
       "        text-align: right;\n",
       "    }\n",
       "</style>\n",
       "<table border=\"1\" class=\"dataframe\">\n",
       "  <thead>\n",
       "    <tr style=\"text-align: right;\">\n",
       "      <th></th>\n",
       "      <th>id</th>\n",
       "      <th>File</th>\n",
       "      <th>Topic</th>\n",
       "      <th>Student</th>\n",
       "      <th>ChatGPT-3</th>\n",
       "      <th>ChatGPT-4</th>\n",
       "      <th>GPT-4_Paraphrasing.io</th>\n",
       "      <th>GPT-4_Paraphrasing.io_MANUALLYCORRECTED</th>\n",
       "      <th>GPT-4_Quillbot</th>\n",
       "      <th>GPT-4_Grammarly</th>\n",
       "      <th>...</th>\n",
       "      <th>GPT3_word_count</th>\n",
       "      <th>GPT4_word_count</th>\n",
       "      <th>STUD_RADAR</th>\n",
       "      <th>GPT3_RADAR</th>\n",
       "      <th>GPT4_RADAR</th>\n",
       "      <th>GPT4_Quillbot_RADAR</th>\n",
       "      <th>GPT4_Grammarly_RADAR</th>\n",
       "      <th>GPT4_WordAI_RADAR</th>\n",
       "      <th>GPT4_Paraphrasing_IO_RAW_RADAR</th>\n",
       "      <th>GPT4_Paraphrasing_IO_EDITED_RADAR</th>\n",
       "    </tr>\n",
       "  </thead>\n",
       "  <tbody>\n",
       "    <tr>\n",
       "      <th>0</th>\n",
       "      <td>0</td>\n",
       "      <td>essay01.txt</td>\n",
       "      <td>Should students be taught to compete or to coo...</td>\n",
       "      <td>It is always said that competition can effecti...</td>\n",
       "      <td>Education is not only about acquiring knowledg...</td>\n",
       "      <td>Title: Fostering Cooperation and Competition i...</td>\n",
       "      <td>Title: Promoting cooperation and competition i...</td>\n",
       "      <td>Title: Promoting cooperation and competition i...</td>\n",
       "      <td>Title: promoting cooperation and competition i...</td>\n",
       "      <td>Title: Fostering Cooperation and Competition i...</td>\n",
       "      <td>...</td>\n",
       "      <td>258</td>\n",
       "      <td>215</td>\n",
       "      <td>0.57065</td>\n",
       "      <td>0.986301</td>\n",
       "      <td>0.974493</td>\n",
       "      <td>0.975968</td>\n",
       "      <td>0.963674</td>\n",
       "      <td>0.843616</td>\n",
       "      <td>0.989108</td>\n",
       "      <td>0.983982</td>\n",
       "    </tr>\n",
       "    <tr>\n",
       "      <th>1</th>\n",
       "      <td>1</td>\n",
       "      <td>essay02.txt</td>\n",
       "      <td>More people are migrating to other countries t...</td>\n",
       "      <td>The last 50 years have seen an increasing numb...</td>\n",
       "      <td>Migration has been a part of human history for...</td>\n",
       "      <td>Title: The Global Rise of Migration: A New Era...</td>\n",
       "      <td>Title: Global Migration Boom: A New Era of Int...</td>\n",
       "      <td>Title: Global Migration Boom: A New Era of Int...</td>\n",
       "      <td>The Global Rise of Migration: A New Era of Int...</td>\n",
       "      <td>Title: The Global Rise of Migration: A New Era...</td>\n",
       "      <td>...</td>\n",
       "      <td>267</td>\n",
       "      <td>251</td>\n",
       "      <td>NaN</td>\n",
       "      <td>NaN</td>\n",
       "      <td>NaN</td>\n",
       "      <td>NaN</td>\n",
       "      <td>NaN</td>\n",
       "      <td>NaN</td>\n",
       "      <td>NaN</td>\n",
       "      <td>NaN</td>\n",
       "    </tr>\n",
       "    <tr>\n",
       "      <th>2</th>\n",
       "      <td>2</td>\n",
       "      <td>essay03.txt</td>\n",
       "      <td>International tourism is now more common than ...</td>\n",
       "      <td>The last decade has seen an increasing number ...</td>\n",
       "      <td>International tourism has become an increasing...</td>\n",
       "      <td>Title: The Booming Phenomenon of International...</td>\n",
       "      <td>Title: The exploding phenomenon of internation...</td>\n",
       "      <td>Title: The exploding phenomenon of internation...</td>\n",
       "      <td>Title: The booming phenomenon of international...</td>\n",
       "      <td>Title: The Booming Phenomenon of International...</td>\n",
       "      <td>...</td>\n",
       "      <td>284</td>\n",
       "      <td>281</td>\n",
       "      <td>NaN</td>\n",
       "      <td>NaN</td>\n",
       "      <td>NaN</td>\n",
       "      <td>NaN</td>\n",
       "      <td>NaN</td>\n",
       "      <td>NaN</td>\n",
       "      <td>NaN</td>\n",
       "      <td>NaN</td>\n",
       "    </tr>\n",
       "    <tr>\n",
       "      <th>3</th>\n",
       "      <td>3</td>\n",
       "      <td>essay04.txt</td>\n",
       "      <td>International tourism is now more common than ...</td>\n",
       "      <td>The last 50 years have seen a significant incr...</td>\n",
       "      <td>International tourism has indeed become a comm...</td>\n",
       "      <td>Title: The Consequences of International Touri...</td>\n",
       "      <td>Title: Consequences of the unprecedented growt...</td>\n",
       "      <td>Title: Consequences of the unprecedented growt...</td>\n",
       "      <td>Title: The Impacts of International Tourism's ...</td>\n",
       "      <td>Title: The Consequences of International Touri...</td>\n",
       "      <td>...</td>\n",
       "      <td>280</td>\n",
       "      <td>255</td>\n",
       "      <td>NaN</td>\n",
       "      <td>NaN</td>\n",
       "      <td>NaN</td>\n",
       "      <td>NaN</td>\n",
       "      <td>NaN</td>\n",
       "      <td>NaN</td>\n",
       "      <td>NaN</td>\n",
       "      <td>NaN</td>\n",
       "    </tr>\n",
       "    <tr>\n",
       "      <th>4</th>\n",
       "      <td>4</td>\n",
       "      <td>essay05.txt</td>\n",
       "      <td>Living and studying overseas</td>\n",
       "      <td>It is every student's desire to study at a goo...</td>\n",
       "      <td>Living and studying overseas can be a life-cha...</td>\n",
       "      <td>Title: The Multifaceted Benefits of Living and...</td>\n",
       "      <td>Title: The multifaceted benefits of living and...</td>\n",
       "      <td>Title: The multifaceted benefits of living and...</td>\n",
       "      <td>Title: The Multifaceted Benefits of Living and...</td>\n",
       "      <td>Title: The Multifaceted Benefits of Living and...</td>\n",
       "      <td>...</td>\n",
       "      <td>283</td>\n",
       "      <td>259</td>\n",
       "      <td>NaN</td>\n",
       "      <td>NaN</td>\n",
       "      <td>NaN</td>\n",
       "      <td>NaN</td>\n",
       "      <td>NaN</td>\n",
       "      <td>NaN</td>\n",
       "      <td>NaN</td>\n",
       "      <td>NaN</td>\n",
       "    </tr>\n",
       "  </tbody>\n",
       "</table>\n",
       "<p>5 rows × 31 columns</p>\n",
       "</div>"
      ],
      "text/plain": [
       "   id         File                                              Topic  \\\n",
       "0   0  essay01.txt  Should students be taught to compete or to coo...   \n",
       "1   1  essay02.txt  More people are migrating to other countries t...   \n",
       "2   2  essay03.txt  International tourism is now more common than ...   \n",
       "3   3  essay04.txt  International tourism is now more common than ...   \n",
       "4   4  essay05.txt                       Living and studying overseas   \n",
       "\n",
       "                                             Student  \\\n",
       "0  It is always said that competition can effecti...   \n",
       "1  The last 50 years have seen an increasing numb...   \n",
       "2  The last decade has seen an increasing number ...   \n",
       "3  The last 50 years have seen a significant incr...   \n",
       "4  It is every student's desire to study at a goo...   \n",
       "\n",
       "                                           ChatGPT-3  \\\n",
       "0  Education is not only about acquiring knowledg...   \n",
       "1  Migration has been a part of human history for...   \n",
       "2  International tourism has become an increasing...   \n",
       "3  International tourism has indeed become a comm...   \n",
       "4  Living and studying overseas can be a life-cha...   \n",
       "\n",
       "                                           ChatGPT-4  \\\n",
       "0  Title: Fostering Cooperation and Competition i...   \n",
       "1  Title: The Global Rise of Migration: A New Era...   \n",
       "2  Title: The Booming Phenomenon of International...   \n",
       "3  Title: The Consequences of International Touri...   \n",
       "4  Title: The Multifaceted Benefits of Living and...   \n",
       "\n",
       "                               GPT-4_Paraphrasing.io  \\\n",
       "0  Title: Promoting cooperation and competition i...   \n",
       "1  Title: Global Migration Boom: A New Era of Int...   \n",
       "2  Title: The exploding phenomenon of internation...   \n",
       "3  Title: Consequences of the unprecedented growt...   \n",
       "4  Title: The multifaceted benefits of living and...   \n",
       "\n",
       "             GPT-4_Paraphrasing.io_MANUALLYCORRECTED  \\\n",
       "0  Title: Promoting cooperation and competition i...   \n",
       "1  Title: Global Migration Boom: A New Era of Int...   \n",
       "2  Title: The exploding phenomenon of internation...   \n",
       "3  Title: Consequences of the unprecedented growt...   \n",
       "4  Title: The multifaceted benefits of living and...   \n",
       "\n",
       "                                      GPT-4_Quillbot  \\\n",
       "0  Title: promoting cooperation and competition i...   \n",
       "1  The Global Rise of Migration: A New Era of Int...   \n",
       "2  Title: The booming phenomenon of international...   \n",
       "3  Title: The Impacts of International Tourism's ...   \n",
       "4  Title: The Multifaceted Benefits of Living and...   \n",
       "\n",
       "                                     GPT-4_Grammarly  ... GPT3_word_count  \\\n",
       "0  Title: Fostering Cooperation and Competition i...  ...             258   \n",
       "1  Title: The Global Rise of Migration: A New Era...  ...             267   \n",
       "2  Title: The Booming Phenomenon of International...  ...             284   \n",
       "3  Title: The Consequences of International Touri...  ...             280   \n",
       "4  Title: The Multifaceted Benefits of Living and...  ...             283   \n",
       "\n",
       "  GPT4_word_count STUD_RADAR GPT3_RADAR GPT4_RADAR GPT4_Quillbot_RADAR  \\\n",
       "0             215    0.57065   0.986301   0.974493            0.975968   \n",
       "1             251        NaN        NaN        NaN                 NaN   \n",
       "2             281        NaN        NaN        NaN                 NaN   \n",
       "3             255        NaN        NaN        NaN                 NaN   \n",
       "4             259        NaN        NaN        NaN                 NaN   \n",
       "\n",
       "  GPT4_Grammarly_RADAR  GPT4_WordAI_RADAR  GPT4_Paraphrasing_IO_RAW_RADAR  \\\n",
       "0             0.963674           0.843616                        0.989108   \n",
       "1                  NaN                NaN                             NaN   \n",
       "2                  NaN                NaN                             NaN   \n",
       "3                  NaN                NaN                             NaN   \n",
       "4                  NaN                NaN                             NaN   \n",
       "\n",
       "   GPT4_Paraphrasing_IO_EDITED_RADAR  \n",
       "0                           0.983982  \n",
       "1                                NaN  \n",
       "2                                NaN  \n",
       "3                                NaN  \n",
       "4                                NaN  \n",
       "\n",
       "[5 rows x 31 columns]"
      ]
     },
     "execution_count": 7,
     "metadata": {},
     "output_type": "execute_result"
    }
   ],
   "source": [
    "pre_RADAR_data.head()"
   ]
  },
  {
   "cell_type": "code",
   "execution_count": 18,
   "metadata": {},
   "outputs": [],
   "source": [
    "pre_RADAR_data.to_csv('topics-post-RADAR-data.csv', index=False)"
   ]
  },
  {
   "cell_type": "code",
   "execution_count": 22,
   "metadata": {},
   "outputs": [
    {
     "data": {
      "text/html": [
       "<div>\n",
       "<style scoped>\n",
       "    .dataframe tbody tr th:only-of-type {\n",
       "        vertical-align: middle;\n",
       "    }\n",
       "\n",
       "    .dataframe tbody tr th {\n",
       "        vertical-align: top;\n",
       "    }\n",
       "\n",
       "    .dataframe thead th {\n",
       "        text-align: right;\n",
       "    }\n",
       "</style>\n",
       "<table border=\"1\" class=\"dataframe\">\n",
       "  <thead>\n",
       "    <tr style=\"text-align: right;\">\n",
       "      <th></th>\n",
       "      <th>id</th>\n",
       "      <th>File</th>\n",
       "      <th>Topic</th>\n",
       "      <th>Student</th>\n",
       "      <th>ChatGPT-3</th>\n",
       "      <th>ChatGPT-4</th>\n",
       "      <th>GPT-4_Paraphrasing.io</th>\n",
       "      <th>GPT-4_Paraphrasing.io_MANUALLYCORRECTED</th>\n",
       "      <th>GPT-4_Quillbot</th>\n",
       "      <th>GPT-4_Grammarly</th>\n",
       "      <th>...</th>\n",
       "      <th>GPT3_word_count</th>\n",
       "      <th>GPT4_word_count</th>\n",
       "      <th>STUD_RADAR</th>\n",
       "      <th>GPT3_RADAR</th>\n",
       "      <th>GPT4_RADAR</th>\n",
       "      <th>GPT4_Quillbot_RADAR</th>\n",
       "      <th>GPT4_Grammarly_RADAR</th>\n",
       "      <th>GPT4_WordAI_RADAR</th>\n",
       "      <th>GPT4_Paraphrasing_IO_RAW_RADAR</th>\n",
       "      <th>GPT4_Paraphrasing_IO_EDITED_RADAR</th>\n",
       "    </tr>\n",
       "  </thead>\n",
       "  <tbody>\n",
       "    <tr>\n",
       "      <th>0</th>\n",
       "      <td>0</td>\n",
       "      <td>essay01.txt</td>\n",
       "      <td>Should students be taught to compete or to coo...</td>\n",
       "      <td>It is always said that competition can effecti...</td>\n",
       "      <td>Education is not only about acquiring knowledg...</td>\n",
       "      <td>Title: Fostering Cooperation and Competition i...</td>\n",
       "      <td>Title: Promoting cooperation and competition i...</td>\n",
       "      <td>Title: Promoting cooperation and competition i...</td>\n",
       "      <td>Title: promoting cooperation and competition i...</td>\n",
       "      <td>Title: Fostering Cooperation and Competition i...</td>\n",
       "      <td>...</td>\n",
       "      <td>258</td>\n",
       "      <td>215</td>\n",
       "      <td>0.57065</td>\n",
       "      <td>0.986301</td>\n",
       "      <td>0.974493</td>\n",
       "      <td>0.975968</td>\n",
       "      <td>0.963674</td>\n",
       "      <td>0.843616</td>\n",
       "      <td>0.989108</td>\n",
       "      <td>0.983982</td>\n",
       "    </tr>\n",
       "    <tr>\n",
       "      <th>1</th>\n",
       "      <td>1</td>\n",
       "      <td>essay02.txt</td>\n",
       "      <td>More people are migrating to other countries t...</td>\n",
       "      <td>The last 50 years have seen an increasing numb...</td>\n",
       "      <td>Migration has been a part of human history for...</td>\n",
       "      <td>Title: The Global Rise of Migration: A New Era...</td>\n",
       "      <td>Title: Global Migration Boom: A New Era of Int...</td>\n",
       "      <td>Title: Global Migration Boom: A New Era of Int...</td>\n",
       "      <td>The Global Rise of Migration: A New Era of Int...</td>\n",
       "      <td>Title: The Global Rise of Migration: A New Era...</td>\n",
       "      <td>...</td>\n",
       "      <td>267</td>\n",
       "      <td>251</td>\n",
       "      <td>NaN</td>\n",
       "      <td>NaN</td>\n",
       "      <td>NaN</td>\n",
       "      <td>NaN</td>\n",
       "      <td>NaN</td>\n",
       "      <td>NaN</td>\n",
       "      <td>NaN</td>\n",
       "      <td>NaN</td>\n",
       "    </tr>\n",
       "    <tr>\n",
       "      <th>2</th>\n",
       "      <td>2</td>\n",
       "      <td>essay03.txt</td>\n",
       "      <td>International tourism is now more common than ...</td>\n",
       "      <td>The last decade has seen an increasing number ...</td>\n",
       "      <td>International tourism has become an increasing...</td>\n",
       "      <td>Title: The Booming Phenomenon of International...</td>\n",
       "      <td>Title: The exploding phenomenon of internation...</td>\n",
       "      <td>Title: The exploding phenomenon of internation...</td>\n",
       "      <td>Title: The booming phenomenon of international...</td>\n",
       "      <td>Title: The Booming Phenomenon of International...</td>\n",
       "      <td>...</td>\n",
       "      <td>284</td>\n",
       "      <td>281</td>\n",
       "      <td>NaN</td>\n",
       "      <td>NaN</td>\n",
       "      <td>NaN</td>\n",
       "      <td>NaN</td>\n",
       "      <td>NaN</td>\n",
       "      <td>NaN</td>\n",
       "      <td>NaN</td>\n",
       "      <td>NaN</td>\n",
       "    </tr>\n",
       "    <tr>\n",
       "      <th>3</th>\n",
       "      <td>3</td>\n",
       "      <td>essay04.txt</td>\n",
       "      <td>International tourism is now more common than ...</td>\n",
       "      <td>The last 50 years have seen a significant incr...</td>\n",
       "      <td>International tourism has indeed become a comm...</td>\n",
       "      <td>Title: The Consequences of International Touri...</td>\n",
       "      <td>Title: Consequences of the unprecedented growt...</td>\n",
       "      <td>Title: Consequences of the unprecedented growt...</td>\n",
       "      <td>Title: The Impacts of International Tourism's ...</td>\n",
       "      <td>Title: The Consequences of International Touri...</td>\n",
       "      <td>...</td>\n",
       "      <td>280</td>\n",
       "      <td>255</td>\n",
       "      <td>NaN</td>\n",
       "      <td>NaN</td>\n",
       "      <td>NaN</td>\n",
       "      <td>NaN</td>\n",
       "      <td>NaN</td>\n",
       "      <td>NaN</td>\n",
       "      <td>NaN</td>\n",
       "      <td>NaN</td>\n",
       "    </tr>\n",
       "    <tr>\n",
       "      <th>4</th>\n",
       "      <td>4</td>\n",
       "      <td>essay05.txt</td>\n",
       "      <td>Living and studying overseas</td>\n",
       "      <td>It is every student's desire to study at a goo...</td>\n",
       "      <td>Living and studying overseas can be a life-cha...</td>\n",
       "      <td>Title: The Multifaceted Benefits of Living and...</td>\n",
       "      <td>Title: The multifaceted benefits of living and...</td>\n",
       "      <td>Title: The multifaceted benefits of living and...</td>\n",
       "      <td>Title: The Multifaceted Benefits of Living and...</td>\n",
       "      <td>Title: The Multifaceted Benefits of Living and...</td>\n",
       "      <td>...</td>\n",
       "      <td>283</td>\n",
       "      <td>259</td>\n",
       "      <td>NaN</td>\n",
       "      <td>NaN</td>\n",
       "      <td>NaN</td>\n",
       "      <td>NaN</td>\n",
       "      <td>NaN</td>\n",
       "      <td>NaN</td>\n",
       "      <td>NaN</td>\n",
       "      <td>NaN</td>\n",
       "    </tr>\n",
       "    <tr>\n",
       "      <th>...</th>\n",
       "      <td>...</td>\n",
       "      <td>...</td>\n",
       "      <td>...</td>\n",
       "      <td>...</td>\n",
       "      <td>...</td>\n",
       "      <td>...</td>\n",
       "      <td>...</td>\n",
       "      <td>...</td>\n",
       "      <td>...</td>\n",
       "      <td>...</td>\n",
       "      <td>...</td>\n",
       "      <td>...</td>\n",
       "      <td>...</td>\n",
       "      <td>...</td>\n",
       "      <td>...</td>\n",
       "      <td>...</td>\n",
       "      <td>...</td>\n",
       "      <td>...</td>\n",
       "      <td>...</td>\n",
       "      <td>...</td>\n",
       "      <td>...</td>\n",
       "    </tr>\n",
       "    <tr>\n",
       "      <th>85</th>\n",
       "      <td>85</td>\n",
       "      <td>essay86.txt</td>\n",
       "      <td>teaching and researching working together lead...</td>\n",
       "      <td>Recently, the controversial debate surrounding...</td>\n",
       "      <td>Teaching and research are two interconnected a...</td>\n",
       "      <td>itle: The Symbiosis of Teaching and Research: ...</td>\n",
       "      <td>title: The symbiosis between teaching and rese...</td>\n",
       "      <td>title: The symbiosis between teaching and rese...</td>\n",
       "      <td>Title: The Symbiosis of Teaching and Research:...</td>\n",
       "      <td>title: The Symbiosis of Teaching and Research:...</td>\n",
       "      <td>...</td>\n",
       "      <td>251</td>\n",
       "      <td>250</td>\n",
       "      <td>NaN</td>\n",
       "      <td>NaN</td>\n",
       "      <td>NaN</td>\n",
       "      <td>NaN</td>\n",
       "      <td>NaN</td>\n",
       "      <td>NaN</td>\n",
       "      <td>NaN</td>\n",
       "      <td>NaN</td>\n",
       "    </tr>\n",
       "    <tr>\n",
       "      <th>86</th>\n",
       "      <td>86</td>\n",
       "      <td>essay87.txt</td>\n",
       "      <td>Can petrol price increase impact on reducing t...</td>\n",
       "      <td>Nowadays, the importance of vehicles has been ...</td>\n",
       "      <td>Petrol prices have a direct impact on the over...</td>\n",
       "      <td>Title: The Impact of Increased Petrol Prices o...</td>\n",
       "      <td>Title: Impact of rising gasoline prices on tra...</td>\n",
       "      <td>Title: Impact of rising gasoline prices on tra...</td>\n",
       "      <td>Title: The Effect of Rising Gasoline Prices on...</td>\n",
       "      <td>Title: The Impact of Increased Petrol Prices o...</td>\n",
       "      <td>...</td>\n",
       "      <td>261</td>\n",
       "      <td>262</td>\n",
       "      <td>NaN</td>\n",
       "      <td>NaN</td>\n",
       "      <td>NaN</td>\n",
       "      <td>NaN</td>\n",
       "      <td>NaN</td>\n",
       "      <td>NaN</td>\n",
       "      <td>NaN</td>\n",
       "      <td>NaN</td>\n",
       "    </tr>\n",
       "    <tr>\n",
       "      <th>87</th>\n",
       "      <td>87</td>\n",
       "      <td>essay88.txt</td>\n",
       "      <td>Prefer to live in a small town rather than a city</td>\n",
       "      <td>Many people believe that the life in a major m...</td>\n",
       "      <td>Living in a small town has its own unique char...</td>\n",
       "      <td>Title: The Allure of Small Town Living\\n\\nIn t...</td>\n",
       "      <td>Title: The appeal of small town living\\n\\nIn t...</td>\n",
       "      <td>Title: The appeal of small town living\\n\\nIn t...</td>\n",
       "      <td>Title: The allure of small town living.\\n\\nIn ...</td>\n",
       "      <td>Title: The Allure of Small-Town Living\\n\\nIn t...</td>\n",
       "      <td>...</td>\n",
       "      <td>239</td>\n",
       "      <td>275</td>\n",
       "      <td>NaN</td>\n",
       "      <td>NaN</td>\n",
       "      <td>NaN</td>\n",
       "      <td>NaN</td>\n",
       "      <td>NaN</td>\n",
       "      <td>NaN</td>\n",
       "      <td>NaN</td>\n",
       "      <td>NaN</td>\n",
       "    </tr>\n",
       "    <tr>\n",
       "      <th>88</th>\n",
       "      <td>88</td>\n",
       "      <td>essay89.txt</td>\n",
       "      <td>Knowledge from experience is more important th...</td>\n",
       "      <td>The differences between knowledge from books a...</td>\n",
       "      <td>The debate over whether knowledge gained from ...</td>\n",
       "      <td>Title: The Primacy of Experiential Knowledge\\n...</td>\n",
       "      <td>Title: The Primacy of Experiential Knowledge\\n...</td>\n",
       "      <td>Title: The Primacy of Experiential Knowledge\\n...</td>\n",
       "      <td>Title: The Primacy of Experiential Knowledge\\n...</td>\n",
       "      <td>Title: The Primacy of Experiential Knowledge\\n...</td>\n",
       "      <td>...</td>\n",
       "      <td>240</td>\n",
       "      <td>245</td>\n",
       "      <td>NaN</td>\n",
       "      <td>NaN</td>\n",
       "      <td>NaN</td>\n",
       "      <td>NaN</td>\n",
       "      <td>NaN</td>\n",
       "      <td>NaN</td>\n",
       "      <td>NaN</td>\n",
       "      <td>NaN</td>\n",
       "    </tr>\n",
       "    <tr>\n",
       "      <th>89</th>\n",
       "      <td>89</td>\n",
       "      <td>essay90.txt</td>\n",
       "      <td>Solve traffic and housing problems by moving c...</td>\n",
       "      <td>With the booming development of some cosmopoli...</td>\n",
       "      <td>Moving companies to rural areas has been sugge...</td>\n",
       "      <td>Title: Moving Companies to Rural Areas: A Solu...</td>\n",
       "      <td>Title: Resettlement of businesses to rural are...</td>\n",
       "      <td>Title: Resettlement of businesses to rural are...</td>\n",
       "      <td>Title: Moving Businesses to Rural Areas: A Sol...</td>\n",
       "      <td>Title: Moving Companies to Rural Areas: A Solu...</td>\n",
       "      <td>...</td>\n",
       "      <td>250</td>\n",
       "      <td>268</td>\n",
       "      <td>NaN</td>\n",
       "      <td>NaN</td>\n",
       "      <td>NaN</td>\n",
       "      <td>NaN</td>\n",
       "      <td>NaN</td>\n",
       "      <td>NaN</td>\n",
       "      <td>NaN</td>\n",
       "      <td>NaN</td>\n",
       "    </tr>\n",
       "  </tbody>\n",
       "</table>\n",
       "<p>90 rows × 31 columns</p>\n",
       "</div>"
      ],
      "text/plain": [
       "    id         File                                              Topic  \\\n",
       "0    0  essay01.txt  Should students be taught to compete or to coo...   \n",
       "1    1  essay02.txt  More people are migrating to other countries t...   \n",
       "2    2  essay03.txt  International tourism is now more common than ...   \n",
       "3    3  essay04.txt  International tourism is now more common than ...   \n",
       "4    4  essay05.txt                       Living and studying overseas   \n",
       "..  ..          ...                                                ...   \n",
       "85  85  essay86.txt  teaching and researching working together lead...   \n",
       "86  86  essay87.txt  Can petrol price increase impact on reducing t...   \n",
       "87  87  essay88.txt  Prefer to live in a small town rather than a city   \n",
       "88  88  essay89.txt  Knowledge from experience is more important th...   \n",
       "89  89  essay90.txt  Solve traffic and housing problems by moving c...   \n",
       "\n",
       "                                              Student  \\\n",
       "0   It is always said that competition can effecti...   \n",
       "1   The last 50 years have seen an increasing numb...   \n",
       "2   The last decade has seen an increasing number ...   \n",
       "3   The last 50 years have seen a significant incr...   \n",
       "4   It is every student's desire to study at a goo...   \n",
       "..                                                ...   \n",
       "85  Recently, the controversial debate surrounding...   \n",
       "86  Nowadays, the importance of vehicles has been ...   \n",
       "87  Many people believe that the life in a major m...   \n",
       "88  The differences between knowledge from books a...   \n",
       "89  With the booming development of some cosmopoli...   \n",
       "\n",
       "                                            ChatGPT-3  \\\n",
       "0   Education is not only about acquiring knowledg...   \n",
       "1   Migration has been a part of human history for...   \n",
       "2   International tourism has become an increasing...   \n",
       "3   International tourism has indeed become a comm...   \n",
       "4   Living and studying overseas can be a life-cha...   \n",
       "..                                                ...   \n",
       "85  Teaching and research are two interconnected a...   \n",
       "86  Petrol prices have a direct impact on the over...   \n",
       "87  Living in a small town has its own unique char...   \n",
       "88  The debate over whether knowledge gained from ...   \n",
       "89  Moving companies to rural areas has been sugge...   \n",
       "\n",
       "                                            ChatGPT-4  \\\n",
       "0   Title: Fostering Cooperation and Competition i...   \n",
       "1   Title: The Global Rise of Migration: A New Era...   \n",
       "2   Title: The Booming Phenomenon of International...   \n",
       "3   Title: The Consequences of International Touri...   \n",
       "4   Title: The Multifaceted Benefits of Living and...   \n",
       "..                                                ...   \n",
       "85  itle: The Symbiosis of Teaching and Research: ...   \n",
       "86  Title: The Impact of Increased Petrol Prices o...   \n",
       "87  Title: The Allure of Small Town Living\\n\\nIn t...   \n",
       "88  Title: The Primacy of Experiential Knowledge\\n...   \n",
       "89  Title: Moving Companies to Rural Areas: A Solu...   \n",
       "\n",
       "                                GPT-4_Paraphrasing.io  \\\n",
       "0   Title: Promoting cooperation and competition i...   \n",
       "1   Title: Global Migration Boom: A New Era of Int...   \n",
       "2   Title: The exploding phenomenon of internation...   \n",
       "3   Title: Consequences of the unprecedented growt...   \n",
       "4   Title: The multifaceted benefits of living and...   \n",
       "..                                                ...   \n",
       "85  title: The symbiosis between teaching and rese...   \n",
       "86  Title: Impact of rising gasoline prices on tra...   \n",
       "87  Title: The appeal of small town living\\n\\nIn t...   \n",
       "88  Title: The Primacy of Experiential Knowledge\\n...   \n",
       "89  Title: Resettlement of businesses to rural are...   \n",
       "\n",
       "              GPT-4_Paraphrasing.io_MANUALLYCORRECTED  \\\n",
       "0   Title: Promoting cooperation and competition i...   \n",
       "1   Title: Global Migration Boom: A New Era of Int...   \n",
       "2   Title: The exploding phenomenon of internation...   \n",
       "3   Title: Consequences of the unprecedented growt...   \n",
       "4   Title: The multifaceted benefits of living and...   \n",
       "..                                                ...   \n",
       "85  title: The symbiosis between teaching and rese...   \n",
       "86  Title: Impact of rising gasoline prices on tra...   \n",
       "87  Title: The appeal of small town living\\n\\nIn t...   \n",
       "88  Title: The Primacy of Experiential Knowledge\\n...   \n",
       "89  Title: Resettlement of businesses to rural are...   \n",
       "\n",
       "                                       GPT-4_Quillbot  \\\n",
       "0   Title: promoting cooperation and competition i...   \n",
       "1   The Global Rise of Migration: A New Era of Int...   \n",
       "2   Title: The booming phenomenon of international...   \n",
       "3   Title: The Impacts of International Tourism's ...   \n",
       "4   Title: The Multifaceted Benefits of Living and...   \n",
       "..                                                ...   \n",
       "85  Title: The Symbiosis of Teaching and Research:...   \n",
       "86  Title: The Effect of Rising Gasoline Prices on...   \n",
       "87  Title: The allure of small town living.\\n\\nIn ...   \n",
       "88  Title: The Primacy of Experiential Knowledge\\n...   \n",
       "89  Title: Moving Businesses to Rural Areas: A Sol...   \n",
       "\n",
       "                                      GPT-4_Grammarly  ... GPT3_word_count  \\\n",
       "0   Title: Fostering Cooperation and Competition i...  ...             258   \n",
       "1   Title: The Global Rise of Migration: A New Era...  ...             267   \n",
       "2   Title: The Booming Phenomenon of International...  ...             284   \n",
       "3   Title: The Consequences of International Touri...  ...             280   \n",
       "4   Title: The Multifaceted Benefits of Living and...  ...             283   \n",
       "..                                                ...  ...             ...   \n",
       "85  title: The Symbiosis of Teaching and Research:...  ...             251   \n",
       "86  Title: The Impact of Increased Petrol Prices o...  ...             261   \n",
       "87  Title: The Allure of Small-Town Living\\n\\nIn t...  ...             239   \n",
       "88  Title: The Primacy of Experiential Knowledge\\n...  ...             240   \n",
       "89  Title: Moving Companies to Rural Areas: A Solu...  ...             250   \n",
       "\n",
       "   GPT4_word_count STUD_RADAR GPT3_RADAR GPT4_RADAR GPT4_Quillbot_RADAR  \\\n",
       "0              215    0.57065   0.986301   0.974493            0.975968   \n",
       "1              251        NaN        NaN        NaN                 NaN   \n",
       "2              281        NaN        NaN        NaN                 NaN   \n",
       "3              255        NaN        NaN        NaN                 NaN   \n",
       "4              259        NaN        NaN        NaN                 NaN   \n",
       "..             ...        ...        ...        ...                 ...   \n",
       "85             250        NaN        NaN        NaN                 NaN   \n",
       "86             262        NaN        NaN        NaN                 NaN   \n",
       "87             275        NaN        NaN        NaN                 NaN   \n",
       "88             245        NaN        NaN        NaN                 NaN   \n",
       "89             268        NaN        NaN        NaN                 NaN   \n",
       "\n",
       "   GPT4_Grammarly_RADAR  GPT4_WordAI_RADAR  GPT4_Paraphrasing_IO_RAW_RADAR  \\\n",
       "0              0.963674           0.843616                        0.989108   \n",
       "1                   NaN                NaN                             NaN   \n",
       "2                   NaN                NaN                             NaN   \n",
       "3                   NaN                NaN                             NaN   \n",
       "4                   NaN                NaN                             NaN   \n",
       "..                  ...                ...                             ...   \n",
       "85                  NaN                NaN                             NaN   \n",
       "86                  NaN                NaN                             NaN   \n",
       "87                  NaN                NaN                             NaN   \n",
       "88                  NaN                NaN                             NaN   \n",
       "89                  NaN                NaN                             NaN   \n",
       "\n",
       "    GPT4_Paraphrasing_IO_EDITED_RADAR  \n",
       "0                            0.983982  \n",
       "1                                 NaN  \n",
       "2                                 NaN  \n",
       "3                                 NaN  \n",
       "4                                 NaN  \n",
       "..                                ...  \n",
       "85                                NaN  \n",
       "86                                NaN  \n",
       "87                                NaN  \n",
       "88                                NaN  \n",
       "89                                NaN  \n",
       "\n",
       "[90 rows x 31 columns]"
      ]
     },
     "execution_count": 22,
     "metadata": {},
     "output_type": "execute_result"
    }
   ],
   "source": [
    "post_RADAR_data = pd.read_csv('topics-post-RADAR-data.csv')\n",
    "post_RADAR_data"
   ]
  },
  {
   "cell_type": "markdown",
   "metadata": {},
   "source": [
    "#### Previous Results"
   ]
  },
  {
   "cell_type": "code",
   "execution_count": 61,
   "metadata": {},
   "outputs": [
    {
     "data": {
      "text/plain": [
       "(array([27., 17., 19., 12., 15.]),\n",
       " array([0.02195615, 0.21196148, 0.4019668 , 0.59197213, 0.78197745,\n",
       "        0.97198278]),\n",
       " <BarContainer object of 5 artists>)"
      ]
     },
     "execution_count": 61,
     "metadata": {},
     "output_type": "execute_result"
    },
    {
     "data": {
      "image/png": "[encoded data removed]",
      "text/plain": [
       "<Figure size 432x288 with 1 Axes>"
      ]
     },
     "metadata": {
      "needs_background": "light"
     },
     "output_type": "display_data"
    }
   ],
   "source": [
    "plt.hist(Test_Data['STUD_RADAR'], bins=5)"
   ]
  },
  {
   "cell_type": "code",
   "execution_count": 62,
   "metadata": {},
   "outputs": [
    {
     "data": {
      "text/plain": [
       "{'whiskers': [<matplotlib.lines.Line2D at 0x7f007b1d1050>,\n",
       "  <matplotlib.lines.Line2D at 0x7f007b1d1e50>],\n",
       " 'caps': [<matplotlib.lines.Line2D at 0x7f007b1d81d0>,\n",
       "  <matplotlib.lines.Line2D at 0x7f007b1d8510>],\n",
       " 'boxes': [<matplotlib.lines.Line2D at 0x7f007b1d17d0>],\n",
       " 'medians': [<matplotlib.lines.Line2D at 0x7f007b1d8890>],\n",
       " 'fliers': [<matplotlib.lines.Line2D at 0x7f007b1d8bd0>],\n",
       " 'means': []}"
      ]
     },
     "execution_count": 62,
     "metadata": {},
     "output_type": "execute_result"
    },
    {
     "data": {
      "image/png": "[encoded data removed]",
      "text/plain": [
       "<Figure size 432x288 with 1 Axes>"
      ]
     },
     "metadata": {
      "needs_background": "light"
     },
     "output_type": "display_data"
    }
   ],
   "source": [
    "plt.boxplot(Test_Data['STUD_RADAR'])"
   ]
  },
  {
   "cell_type": "code",
   "execution_count": 63,
   "metadata": {},
   "outputs": [
    {
     "data": {
      "text/plain": [
       "<matplotlib.collections.PathCollection at 0x7f007b14c310>"
      ]
     },
     "execution_count": 63,
     "metadata": {},
     "output_type": "execute_result"
    },
    {
     "data": {
      "image/png": "[encoded data removed]",
      "text/plain": [
       "<Figure size 432x288 with 1 Axes>"
      ]
     },
     "metadata": {
      "needs_background": "light"
     },
     "output_type": "display_data"
    }
   ],
   "source": [
    "plt.scatter(Test_Data['STUD_word_count'], Test_Data['STUD_RADAR'])"
   ]
  },
  {
   "cell_type": "code",
   "execution_count": 66,
   "metadata": {},
   "outputs": [
    {
     "name": "stdout",
     "output_type": "stream",
     "text": [
      "Pearson correlation coefficient: -0.14201040472101745\n",
      "P-value: 0.18181920263783471\n"
     ]
    }
   ],
   "source": [
    "corr, p_value = pearsonr(Test_Data['STUD_word_count'], Test_Data['STUD_RADAR'])\n",
    "\n",
    "print(\"Pearson correlation coefficient:\", corr)\n",
    "print(\"P-value:\", p_value)"
   ]
  },
  {
   "cell_type": "code",
   "execution_count": null,
   "metadata": {},
   "outputs": [],
   "source": [
    "HC3_sample = HC3_Data.sample(n=100)"
   ]
  },
  {
   "cell_type": "code",
   "execution_count": null,
   "metadata": {},
   "outputs": [],
   "source": [
    "HC3_sample"
   ]
  },
  {
   "cell_type": "code",
   "execution_count": null,
   "metadata": {},
   "outputs": [],
   "source": [
    "HC3_sample[['question', 'chatgpt_answers']].to_csv('output.csv', index=False)"
   ]
  }
 ],
 "metadata": {
  "kernelspec": {
   "display_name": "radar_env",
   "language": "python",
   "name": "python3"
  },
  "language_info": {
   "codemirror_mode": {
    "name": "ipython",
    "version": 3
   },
   "file_extension": ".py",
   "mimetype": "text/x-python",
   "name": "python",
   "nbconvert_exporter": "python",
   "pygments_lexer": "ipython3",
   "version": "3.7.12"
  }
 },
 "nbformat": 4,
 "nbformat_minor": 2
}
