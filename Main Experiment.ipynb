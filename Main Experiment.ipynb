{
 "cells": [
  {
   "cell_type": "markdown",
   "metadata": {},
   "source": [
    "#### Import Required Modules"
   ]
  },
  {
   "cell_type": "code",
   "execution_count": 5,
   "metadata": {},
   "outputs": [
    {
     "name": "stdout",
     "output_type": "stream",
     "text": [
      "detector and tokeniser successfully loaded\n"
     ]
    }
   ],
   "source": [
    "from RADAR_set_up import *\n",
    "\n",
    "# for data wrangling\n",
    "import pandas as pd\n",
    "from pandas import json_normalize\n",
    "\n",
    "# for stats\n",
    "import numpy as np\n",
    "import statistics\n",
    "import math\n",
    "from scipy.stats import pearsonr\n",
    "\n",
    "# for visualisations\n",
    "import matplotlib.pyplot as plt\n",
    "\n",
    "# for regex\n",
    "import re"
   ]
  },
  {
   "cell_type": "markdown",
   "metadata": {},
   "source": [
    "#### Setup RADAR + Helper Functions"
   ]
  },
  {
   "cell_type": "code",
   "execution_count": 2,
   "metadata": {},
   "outputs": [
    {
     "name": "stderr",
     "output_type": "stream",
     "text": [
      "/home/nicole/miniconda3/envs/radar_env/lib/python3.7/site-packages/tqdm/auto.py:21: TqdmWarning: IProgress not found. Please update jupyter and ipywidgets. See https://ipywidgets.readthedocs.io/en/stable/user_install.html\n",
      "  from .autonotebook import tqdm as notebook_tqdm\n"
     ]
    },
    {
     "name": "stdout",
     "output_type": "stream",
     "text": [
      "detector and tokeniser successfully loaded\n"
     ]
    }
   ],
   "source": [
    "%run RADAR_set_up.py"
   ]
  },
  {
   "cell_type": "markdown",
   "metadata": {},
   "source": [
    "#### Read Pre-Processed Data"
   ]
  },
  {
   "cell_type": "code",
   "execution_count": 3,
   "metadata": {},
   "outputs": [],
   "source": [
    "pre_RADAR_data = pd.read_csv('topics-pre-RADAR-data.csv')"
   ]
  },
  {
   "cell_type": "markdown",
   "metadata": {},
   "source": [
    "#### Does removing new line characters affect RADAR output? Yes"
   ]
  },
  {
   "cell_type": "code",
   "execution_count": 6,
   "metadata": {},
   "outputs": [
    {
     "name": "stdout",
     "output_type": "stream",
     "text": [
      "RADAR output of original text [0.5706501603126526]\n",
      "RADAR output of stripped text [0.3122698664665222]\n"
     ]
    }
   ],
   "source": [
    "originalString = pre_RADAR_data['Student'][0]\n",
    "newLineCharsRemoved = ''.join(originalString.split('\\n'))\n",
    "\n",
    "print(\"RADAR output of original text\", getRADARoutput(originalString))\n",
    "print(\"RADAR output of stripped text\", getRADARoutput(newLineCharsRemoved))"
   ]
  },
  {
   "cell_type": "markdown",
   "metadata": {},
   "source": [
    "#### Main Experiment"
   ]
  },
  {
   "cell_type": "code",
   "execution_count": 13,
   "metadata": {},
   "outputs": [
    {
     "data": {
      "text/plain": [
       "Index(['id', 'File', 'Topic', 'Student', 'Student_Reformatted',\n",
       "       'Grammarly_Score', 'STUD_Grammarly_Red', 'STUD_Grammarly_All',\n",
       "       'ChatGPT-3', 'ChatGPT-4', 'GPT-4_Paraphrasing.io',\n",
       "       'GPT-4_Paraphrasing.io_MANUALLYCORRECTED', 'GPT-4_Quillbot',\n",
       "       'GPT-4_Grammarly', 'GPT-4_WordAi', 'STUD_sent_count', 'GPT3_sent_count',\n",
       "       'GPT4_sent_count', 'STUD_word_count', 'GPT3_word_count',\n",
       "       'GPT4_word_count'],\n",
       "      dtype='object')"
      ]
     },
     "execution_count": 13,
     "metadata": {},
     "output_type": "execute_result"
    }
   ],
   "source": [
    "pre_RADAR_data = pd.read_csv('topics-pre-RADAR-data.csv')\n",
    "pre_RADAR_data.columns"
   ]
  },
  {
   "cell_type": "code",
   "execution_count": 5,
   "metadata": {},
   "outputs": [],
   "source": [
    "columns = {'Student' : 'STUD_RADAR',\n",
    "           'Student_Reformatted' : 'STUD_REFORMATTED',\n",
    "           'STUD_Grammarly_Red' : 'STUD_RED_RADAR',\n",
    "           'STUD_Grammarly_All' : 'STUD_ALL_RADAR',\n",
    "           'ChatGPT-3': 'GPT3_RADAR',\n",
    "           'ChatGPT-4': 'GPT4_RADAR',\n",
    "            'GPT-4_Quillbot': 'GPT4_Quillbot_RADAR',\n",
    "            'GPT-4_Grammarly': 'GPT4_Grammarly_RADAR',\n",
    "            'GPT-4_WordAi': 'GPT4_WordAI_RADAR',\n",
    "            'GPT-4_Paraphrasing.io': 'GPT4_Paraphrasing_IO_RAW_RADAR',\n",
    "            'GPT-4_Paraphrasing.io_MANUALLYCORRECTED': 'GPT4_Paraphrasing_IO_EDITED_RADAR'\n",
    "           }\n",
    "\n",
    "for outputColumn in columns.values():\n",
    "    pre_RADAR_data[outputColumn] = np.nan"
   ]
  },
  {
   "cell_type": "code",
   "execution_count": 6,
   "metadata": {},
   "outputs": [
    {
     "name": "stderr",
     "output_type": "stream",
     "text": [
      "/home/nicole/miniconda3/envs/radar_env/lib/python3.7/site-packages/ipykernel_launcher.py:5: SettingWithCopyWarning: \n",
      "A value is trying to be set on a copy of a slice from a DataFrame\n",
      "\n",
      "See the caveats in the documentation: https://pandas.pydata.org/pandas-docs/stable/user_guide/indexing.html#returning-a-view-versus-a-copy\n",
      "  \"\"\"\n"
     ]
    }
   ],
   "source": [
    "for inputColumn, outputColumn in columns.items():\n",
    "    for i in range(90):\n",
    "        text = pre_RADAR_data[inputColumn][i]\n",
    "        output = getRADARoutput(text)[0]\n",
    "        pre_RADAR_data[outputColumn][i] = output"
   ]
  },
  {
   "cell_type": "code",
   "execution_count": 18,
   "metadata": {},
   "outputs": [],
   "source": [
    "pre_RADAR_data.to_csv('topics-post-RADAR-data.csv', index=False)"
   ]
  }
 ],
 "metadata": {
  "kernelspec": {
   "display_name": "radar_env",
   "language": "python",
   "name": "python3"
  },
  "language_info": {
   "codemirror_mode": {
    "name": "ipython",
    "version": 3
   },
   "file_extension": ".py",
   "mimetype": "text/x-python",
   "name": "python",
   "nbconvert_exporter": "python",
   "pygments_lexer": "ipython3",
   "version": "3.7.undefined"
  }
 },
 "nbformat": 4,
 "nbformat_minor": 2
}
