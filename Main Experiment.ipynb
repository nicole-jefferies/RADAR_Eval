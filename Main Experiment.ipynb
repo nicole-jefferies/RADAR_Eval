{
 "cells": [
  {
   "cell_type": "markdown",
   "metadata": {},
   "source": [
    "#### Import Required Modules"
   ]
  },
  {
   "cell_type": "code",
   "execution_count": 1,
   "metadata": {},
   "outputs": [
    {
     "name": "stderr",
     "output_type": "stream",
     "text": [
      "/home/nicole/miniconda3/envs/radar_env/lib/python3.7/site-packages/tqdm/auto.py:21: TqdmWarning: IProgress not found. Please update jupyter and ipywidgets. See https://ipywidgets.readthedocs.io/en/stable/user_install.html\n",
      "  from .autonotebook import tqdm as notebook_tqdm\n"
     ]
    },
    {
     "name": "stdout",
     "output_type": "stream",
     "text": [
      "detector and tokeniser successfully loaded\n"
     ]
    }
   ],
   "source": [
    "from RADAR_set_up import *\n",
    "\n",
    "# for data wrangling\n",
    "import pandas as pd\n",
    "from pandas import json_normalize\n",
    "\n",
    "# for stats\n",
    "import numpy as np\n",
    "import statistics\n",
    "import math\n",
    "from scipy.stats import pearsonr\n",
    "\n",
    "# for visualisations\n",
    "import matplotlib.pyplot as plt\n",
    "\n",
    "# for regex\n",
    "import re"
   ]
  },
  {
   "cell_type": "code",
   "execution_count": 16,
   "metadata": {},
   "outputs": [
    {
     "name": "stdout",
     "output_type": "stream",
     "text": [
      "RADAR output of original text [0.1488950252532959]\n"
     ]
    }
   ],
   "source": [
    "long_GPT4_Text = \"\"\"Why Penguins Should Be Given Human Rights\n",
    "In recent years, the conversation surrounding animal rights has intensified, with growing awareness about the cognitive and emotional capacities of various species. Penguins, in particular, stand out as a group of animals that merit closer consideration for the extension of human rights. While the idea might seem far-fetched to some, there are compelling arguments rooted in ethics, environmental stewardship, and scientific understanding that support the notion of granting human rights to penguins.\n",
    "Ethical Considerations\n",
    "The foundation of human rights is the recognition of inherent dignity and the equal and inalienable rights of all members of the human family. This principle is not exclusively applicable to humans; it can be extended to non-human animals who exhibit complex behaviors and social structures, such as penguins. Penguins demonstrate advanced social behaviors, strong familial bonds, and cooperative community living, indicating a level of social sophistication that parallels aspects of human society. Ethically, if we acknowledge the importance of these traits in humans, it follows that we should respect them in penguins as well.\n",
    "Granting human rights to penguins aligns with the principle of equal consideration of interests, a fundamental tenet in ethical philosophy proposed by utilitarian thinkers like Peter Singer. This principle posits that the interests of all beings capable of suffering should be given equal consideration. Penguins, being sentient creatures capable of experiencing pain, fear, and distress, have interests that deserve protection. Recognizing their rights would ensure their well-being and safeguard them from exploitation and harm.\n",
    "Environmental Stewardship\n",
    "Penguins are often regarded as indicators of the health of marine ecosystems. They play a crucial role in maintaining the balance of the ecosystems they inhabit, particularly in the Southern Hemisphere. By protecting penguins, we indirectly safeguard entire marine environments, promoting biodiversity and ecological stability. Human activities, such as overfishing, pollution, and climate change, have had devastating impacts on penguin populations. The extension of human rights to penguins would necessitate stronger legal protections against these destructive practices, fostering a more sustainable interaction between humans and the environment.\n",
    "The ethical principle of stewardship compels us to protect and preserve the natural world for future generations. Penguins, with their charismatic presence and ecological significance, serve as a symbol of this responsibility. By granting them human rights, we acknowledge our duty to protect vulnerable species and their habitats, ensuring that the richness of the natural world is preserved.\n",
    "Scientific Understanding\n",
    "Advancements in animal behavior research have revealed that many species possess cognitive abilities once thought to be unique to humans. Penguins exhibit problem-solving skills, tool use, and even cultural behaviors, such as unique mating dances and vocalizations specific to their colonies. These findings challenge the anthropocentric view that humans are fundamentally distinct from other animals in terms of cognitive capacities.\n",
    "Recognizing the intellectual and emotional capacities of penguins should prompt us to reevaluate the boundaries of rights and protections. If we accept that certain cognitive and emotional capacities warrant rights and protections in humans, it is logically consistent to extend similar considerations to penguins. Doing so would reflect an evolved understanding of intelligence and consciousness, one that transcends species barriers.\n",
    "Practical Implications\n",
    "Implementing human rights for penguins would require significant changes in international law and conservation policies. These changes would include stricter regulations on fishing practices, pollution control, and habitat protection. Additionally, it would necessitate the establishment of marine protected areas where penguins can thrive without human interference.\n",
    "While some may argue that extending human rights to penguins could lead to legal and practical complexities, it is important to recognize that similar arguments were made against the abolition of slavery and the recognition of women's rights. Progress often involves challenging existing norms and expanding our moral and legal frameworks to include those previously excluded. The recognition of penguins' rights could pave the way for a more inclusive and compassionate global society.\n",
    "Conclusion\n",
    "The argument for granting human rights to penguins is rooted in ethical considerations, environmental stewardship, and scientific understanding. Penguins, with their complex social behaviors and ecological significance, deserve protections that reflect their intrinsic value and the role they play in the natural world. By extending human rights to penguins, we acknowledge our ethical responsibility to protect sentient beings, promote environmental sustainability, and embrace a broader understanding of intelligence and consciousness. Such a move would not only benefit penguins but also signify a significant step toward a more just and empathetic world.\n",
    "\"\"\"\n",
    "print(\"RADAR output of original text\", getRADARoutput(long_GPT4_Text))"
   ]
  },
  {
   "cell_type": "code",
   "execution_count": 17,
   "metadata": {},
   "outputs": [
    {
     "name": "stdout",
     "output_type": "stream",
     "text": [
      "RADAR output of original text [0.6365029215812683]\n"
     ]
    }
   ],
   "source": [
    "long_GPT4_Text = \"\"\"The State of World Health: Challenges and Opportunities\n",
    "World health is a multifaceted issue that encompasses a range of factors including access to healthcare, the prevalence of infectious and non-communicable diseases, health infrastructure, and socio-economic determinants of health. Despite significant advancements in medical science and public health, substantial disparities in health outcomes persist across different regions and populations. Addressing these disparities requires a comprehensive understanding of the current challenges and a concerted effort to leverage available opportunities for improving global health.\n",
    "Challenges in Global Health\n",
    "1.\tInfectious Diseases: Despite progress in combating infectious diseases, they remain a major threat in many parts of the world. Diseases such as HIV/AIDS, tuberculosis, and malaria continue to cause millions of deaths annually, particularly in low- and middle-income countries. The emergence of new infectious diseases, such as COVID-19, underscores the ongoing vulnerability of global populations to pandemics. The COVID-19 pandemic highlighted gaps in health systems, especially in terms of preparedness, response, and equitable access to vaccines and treatments.\n",
    "2.\tNon-Communicable Diseases (NCDs): NCDs, including heart disease, cancer, diabetes, and chronic respiratory diseases, are responsible for a significant portion of global morbidity and mortality. These diseases are often linked to lifestyle factors such as poor diet, lack of physical activity, tobacco use, and excessive alcohol consumption. The rise of NCDs is a growing concern worldwide, particularly as populations age and urbanize, placing additional burdens on health systems.\n",
    "3.\tHealthcare Access and Inequality: Access to quality healthcare remains uneven, with significant disparities between and within countries. Factors such as income, education, geography, and gender can influence access to healthcare services. Rural and remote areas often face shortages of healthcare professionals and facilities, exacerbating health inequities. Additionally, marginalized groups, including refugees and indigenous populations, frequently encounter barriers to healthcare access.\n",
    "4.\tHealth Infrastructure and Workforce: Adequate health infrastructure and a well-trained health workforce are critical for effective healthcare delivery. Many countries, particularly in the developing world, struggle with insufficient health infrastructure, outdated equipment, and a shortage of healthcare workers. This inadequacy hampers the ability to provide essential health services, respond to emergencies, and implement public health interventions.\n",
    "5.\tEnvironmental and Social Determinants of Health: Health outcomes are profoundly influenced by environmental and social determinants, including access to clean water and sanitation, education, employment, and housing conditions. Climate change and environmental degradation further exacerbate health risks, particularly for vulnerable populations. Addressing these determinants is essential for improving overall health and achieving health equity.\n",
    "Opportunities for Improving Global Health\n",
    "1.\tStrengthening Health Systems: Building resilient health systems is crucial for improving global health. This includes investing in health infrastructure, ensuring a robust supply chain for medical supplies, and developing a well-trained health workforce. Strengthening primary healthcare services can improve access to essential health services, particularly in underserved areas. Additionally, integrating health services can enhance efficiency and provide comprehensive care to patients.\n",
    "2.\tPromoting Preventive Care: Preventive care, including vaccinations, screenings, and health education, plays a vital role in reducing the burden of disease. Public health campaigns that promote healthy lifestyles and preventive measures can help mitigate the prevalence of both infectious and non-communicable diseases. Investing in preventive care can also reduce healthcare costs in the long term by decreasing the need for expensive treatments and hospitalizations.\n",
    "3.\tLeveraging Technology and Innovation: Advances in technology and innovation offer significant potential for improving global health. Telemedicine, for example, can expand access to healthcare services in remote and underserved areas. Digital health technologies, such as mobile health apps and electronic health records, can enhance health information management and facilitate better patient care. Additionally, innovative medical technologies, such as diagnostic tools and treatments, can improve disease detection and management.\n",
    "4.\tEnhancing Global Health Governance and Collaboration: Effective global health governance and international collaboration are essential for addressing health challenges that transcend national borders. Organizations such as the World Health Organization (WHO) play a critical role in coordinating global health efforts, setting standards, and providing technical assistance. Strengthening global health governance requires robust international cooperation, transparent communication, and equitable resource distribution.\n",
    "5.\tAddressing Social Determinants of Health: Improving health outcomes necessitates addressing the social determinants of health. This involves implementing policies that promote education, employment, housing, and social protection. Efforts to reduce poverty and inequality can have a profound impact on health by improving living conditions and increasing access to essential services. Additionally, addressing environmental factors, such as access to clean water and air, is crucial for promoting health and well-being.\n",
    "Conclusion\n",
    "The state of world health presents a complex landscape of challenges and opportunities. While significant progress has been made in combating diseases and improving health systems, substantial disparities and emerging threats continue to pose significant risks. By strengthening health systems, promoting preventive care, leveraging technology, enhancing global collaboration, and addressing social determinants, we can make meaningful strides towards achieving better health outcomes for all. The commitment to global health equity and the concerted effort of the international community are vital for ensuring a healthier and more sustainable future.\n",
    "\"\"\"\n",
    "print(\"RADAR output of original text\", getRADARoutput(long_GPT4_Text))"
   ]
  },
  {
   "cell_type": "code",
   "execution_count": 18,
   "metadata": {},
   "outputs": [
    {
     "name": "stdout",
     "output_type": "stream",
     "text": [
      "RADAR output of original text [0.6913347840309143]\n"
     ]
    }
   ],
   "source": [
    "long_GPT4_Text = \"\"\"Communicable Diseases: Global Challenges and Strategies for Control\n",
    "Communicable diseases, also known as infectious diseases, are illnesses caused by pathogenic microorganisms such as bacteria, viruses, fungi, and parasites. These diseases can be transmitted directly or indirectly from one individual to another, and they have posed significant threats to public health throughout history. Despite advances in medical science, communicable diseases remain a major global health challenge, particularly in low- and middle-income countries. Understanding the factors that contribute to the spread of these diseases and implementing effective control strategies are essential for reducing their impact on global health.\n",
    "\n",
    "The Global Burden of Communicable Diseases\n",
    "Communicable diseases are responsible for a significant portion of global morbidity and mortality. They disproportionately affect vulnerable populations, including children, the elderly, and those with compromised immune systems. Some of the most prevalent and deadly communicable diseases include:\n",
    "\n",
    "HIV/AIDS: Human Immunodeficiency Virus (HIV) attacks the immune system and, if left untreated, can lead to Acquired Immunodeficiency Syndrome (AIDS). Despite progress in antiretroviral therapy (ART), HIV/AIDS continues to be a major public health issue, particularly in sub-Saharan Africa, where it has devastated communities and strained healthcare systems.\n",
    "\n",
    "Tuberculosis (TB): Caused by the bacterium Mycobacterium tuberculosis, TB primarily affects the lungs but can also impact other parts of the body. TB remains a leading cause of death worldwide, particularly in developing countries. Multidrug-resistant TB (MDR-TB) poses an additional challenge, requiring more complex and expensive treatment regimens.\n",
    "\n",
    "Malaria: This mosquito-borne disease is caused by Plasmodium parasites. Malaria is endemic in many tropical and subtropical regions, with sub-Saharan Africa bearing the highest burden. Children under five and pregnant women are particularly vulnerable to malaria, which can lead to severe illness and death if not treated promptly.\n",
    "\n",
    "Influenza: Influenza viruses cause seasonal flu epidemics, which result in significant illness and death each year. The virus's ability to mutate rapidly necessitates the annual update of flu vaccines to ensure their effectiveness. Influenza pandemics, such as the 1918 Spanish flu and the 2009 H1N1 pandemic, have demonstrated the potential for widespread impact on global health.\n",
    "\n",
    "COVID-19: Caused by the novel coronavirus SARS-CoV-2, COVID-19 emerged in late 2019 and rapidly spread worldwide, leading to a global pandemic. The disease has caused millions of deaths and disrupted economies and societies on an unprecedented scale. The pandemic highlighted gaps in health systems and the importance of global cooperation in combating infectious diseases.\n",
    "\n",
    "Factors Contributing to the Spread of Communicable Diseases\n",
    "Several factors contribute to the spread of communicable diseases, making their control challenging:\n",
    "\n",
    "Globalization and Travel: Increased global travel and trade facilitate the rapid spread of infectious diseases across borders. Pathogens can quickly move from one region to another, making it difficult to contain outbreaks.\n",
    "\n",
    "Urbanization: Rapid urbanization, particularly in developing countries, often leads to overcrowded living conditions and inadequate sanitation, creating ideal environments for the spread of infectious diseases.\n",
    "\n",
    "Climate Change: Changes in climate patterns can influence the distribution of vectors, such as mosquitoes, that transmit diseases like malaria and dengue fever. Warmer temperatures and altered rainfall patterns can expand the habitats of these vectors, increasing the risk of disease transmission.\n",
    "\n",
    "Antimicrobial Resistance: The misuse and overuse of antibiotics and other antimicrobial agents have led to the emergence of drug-resistant strains of bacteria, viruses, and parasites. Antimicrobial resistance (AMR) complicates the treatment of infections and increases the risk of disease spread.\n",
    "\n",
    "Socioeconomic Factors: Poverty, lack of access to healthcare, malnutrition, and limited education contribute to the vulnerability of populations to communicable diseases. Addressing these underlying social determinants is crucial for effective disease control.\n",
    "\n",
    "Strategies for Controlling Communicable Diseases\n",
    "Effective control of communicable diseases requires a multifaceted approach that includes prevention, early detection, and prompt treatment. Key strategies include:\n",
    "\n",
    "Vaccination: Vaccines are one of the most effective tools for preventing infectious diseases. Immunization programs have successfully eradicated smallpox and significantly reduced the incidence of diseases such as polio, measles, and hepatitis B. Expanding access to vaccines, particularly in low-income countries, is essential for controlling infectious diseases.\n",
    "\n",
    "Surveillance and Monitoring: Robust disease surveillance systems are critical for early detection of outbreaks and monitoring the spread of diseases. Timely reporting and data sharing enable public health authorities to implement targeted interventions and prevent widespread transmission.\n",
    "\n",
    "Public Health Education: Educating communities about the modes of transmission and prevention of communicable diseases is vital for reducing their spread. Public health campaigns can promote behaviors such as handwashing, safe food handling, and the use of insect repellent to prevent vector-borne diseases.\n",
    "\n",
    "Strengthening Health Systems: Improving health infrastructure and ensuring access to essential healthcare services are fundamental for controlling infectious diseases. This includes training healthcare workers, ensuring the availability of diagnostic tools and treatments, and establishing efficient referral systems.\n",
    "\n",
    "Addressing Social Determinants: Efforts to reduce poverty, improve living conditions, and increase access to education and healthcare can have a profound impact on reducing the burden of communicable diseases. Integrating disease control programs with broader development initiatives can enhance their effectiveness and sustainability.\n",
    "\n",
    "Conclusion\n",
    "Communicable diseases continue to pose significant challenges to global health, particularly in vulnerable populations and low-resource settings. Addressing these challenges requires a comprehensive approach that includes vaccination, surveillance, public health education, health system strengthening, and addressing social determinants. By implementing these strategies and fostering international collaboration, we can reduce the impact of communicable diseases and move towards a healthier, more resilient global population.\n",
    "\n",
    "\"\"\"\n",
    "print(\"RADAR output of original text\", getRADARoutput(long_GPT4_Text))"
   ]
  },
  {
   "cell_type": "markdown",
   "metadata": {},
   "source": [
    "#### Read Pre-Processed Data"
   ]
  },
  {
   "cell_type": "code",
   "execution_count": 3,
   "metadata": {},
   "outputs": [],
   "source": [
    "pre_RADAR_data = pd.read_csv('topics-pre-RADAR-data.csv')"
   ]
  },
  {
   "cell_type": "markdown",
   "metadata": {},
   "source": [
    "#### Does removing new line characters affect RADAR output? Yes"
   ]
  },
  {
   "cell_type": "code",
   "execution_count": 4,
   "metadata": {},
   "outputs": [
    {
     "name": "stdout",
     "output_type": "stream",
     "text": [
      "RADAR output of original text [0.5706501603126526]\n",
      "RADAR output of stripped text [0.3122698664665222]\n"
     ]
    }
   ],
   "source": [
    "originalString = pre_RADAR_data['Student'][0]\n",
    "newLineCharsRemoved = ''.join(originalString.split('\\n'))\n",
    "\n",
    "print(\"RADAR output of original text\", getRADARoutput(originalString))\n",
    "print(\"RADAR output of stripped text\", getRADARoutput(newLineCharsRemoved))"
   ]
  },
  {
   "cell_type": "markdown",
   "metadata": {},
   "source": [
    "#### Main Experiment"
   ]
  },
  {
   "cell_type": "code",
   "execution_count": 13,
   "metadata": {},
   "outputs": [
    {
     "data": {
      "text/plain": [
       "Index(['id', 'File', 'Topic', 'Student', 'Student_Reformatted',\n",
       "       'Grammarly_Score', 'STUD_Grammarly_Red', 'STUD_Grammarly_All',\n",
       "       'ChatGPT-3', 'ChatGPT-4', 'GPT-4_Paraphrasing.io',\n",
       "       'GPT-4_Paraphrasing.io_MANUALLYCORRECTED', 'GPT-4_Quillbot',\n",
       "       'GPT-4_Grammarly', 'GPT-4_WordAi', 'STUD_sent_count', 'GPT3_sent_count',\n",
       "       'GPT4_sent_count', 'STUD_word_count', 'GPT3_word_count',\n",
       "       'GPT4_word_count'],\n",
       "      dtype='object')"
      ]
     },
     "execution_count": 13,
     "metadata": {},
     "output_type": "execute_result"
    }
   ],
   "source": [
    "pre_RADAR_data = pd.read_csv('topics-pre-RADAR-data.csv')\n",
    "pre_RADAR_data.columns"
   ]
  },
  {
   "cell_type": "code",
   "execution_count": 5,
   "metadata": {},
   "outputs": [],
   "source": [
    "columns = {'Student' : 'STUD_RADAR',\n",
    "           'Student_Reformatted' : 'STUD_REFORMATTED',\n",
    "           'STUD_Grammarly_Red' : 'STUD_RED_RADAR',\n",
    "           'STUD_Grammarly_All' : 'STUD_ALL_RADAR',\n",
    "           'ChatGPT-3': 'GPT3_RADAR',\n",
    "           'ChatGPT-4': 'GPT4_RADAR',\n",
    "            'GPT-4_Quillbot': 'GPT4_Quillbot_RADAR',\n",
    "            'GPT-4_Grammarly': 'GPT4_Grammarly_RADAR',\n",
    "            'GPT-4_WordAi': 'GPT4_WordAI_RADAR',\n",
    "            'GPT-4_Paraphrasing.io': 'GPT4_Paraphrasing_IO_RAW_RADAR',\n",
    "            'GPT-4_Paraphrasing.io_MANUALLYCORRECTED': 'GPT4_Paraphrasing_IO_EDITED_RADAR'\n",
    "           }\n",
    "\n",
    "for outputColumn in columns.values():\n",
    "    pre_RADAR_data[outputColumn] = np.nan"
   ]
  },
  {
   "cell_type": "code",
   "execution_count": 6,
   "metadata": {},
   "outputs": [
    {
     "name": "stderr",
     "output_type": "stream",
     "text": [
      "/home/nicole/miniconda3/envs/radar_env/lib/python3.7/site-packages/ipykernel_launcher.py:5: SettingWithCopyWarning: \n",
      "A value is trying to be set on a copy of a slice from a DataFrame\n",
      "\n",
      "See the caveats in the documentation: https://pandas.pydata.org/pandas-docs/stable/user_guide/indexing.html#returning-a-view-versus-a-copy\n",
      "  \"\"\"\n"
     ]
    }
   ],
   "source": [
    "for inputColumn, outputColumn in columns.items():\n",
    "    for i in range(90):\n",
    "        text = pre_RADAR_data[inputColumn][i]\n",
    "        output = getRADARoutput(text)[0]\n",
    "        pre_RADAR_data[outputColumn][i] = output"
   ]
  },
  {
   "cell_type": "code",
   "execution_count": 18,
   "metadata": {},
   "outputs": [],
   "source": [
    "pre_RADAR_data.to_csv('topics-post-RADAR-data.csv', index=False)"
   ]
  }
 ],
 "metadata": {
  "kernelspec": {
   "display_name": "radar_env",
   "language": "python",
   "name": "python3"
  },
  "language_info": {
   "codemirror_mode": {
    "name": "ipython",
    "version": 3
   },
   "file_extension": ".py",
   "mimetype": "text/x-python",
   "name": "python",
   "nbconvert_exporter": "python",
   "pygments_lexer": "ipython3",
   "version": "3.7.undefined"
  }
 },
 "nbformat": 4,
 "nbformat_minor": 2
}
